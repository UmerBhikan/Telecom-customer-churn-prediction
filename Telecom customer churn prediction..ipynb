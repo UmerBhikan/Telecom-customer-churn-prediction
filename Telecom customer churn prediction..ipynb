{
 "cells": [
  {
   "cell_type": "code",
   "execution_count": 1,
   "metadata": {},
   "outputs": [],
   "source": [
    "import pandas as pd\n",
    "import numpy as np\n",
    "import seaborn as sns\n",
    "import matplotlib.pyplot as plt\n",
    "%matplotlib inline"
   ]
  },
  {
   "cell_type": "code",
   "execution_count": 2,
   "metadata": {},
   "outputs": [],
   "source": [
    "data = pd.read_csv(\"sample_data_intw.csv\")"
   ]
  },
  {
   "cell_type": "code",
   "execution_count": 3,
   "metadata": {},
   "outputs": [
    {
     "data": {
      "application/vnd.jupyter.widget-view+json": {
       "model_id": "b474b20fab1649b88cc59966028783b6"
      },
      "text/html": [
       "<div>\n",
       "<style scoped>\n",
       "    .dataframe tbody tr th:only-of-type {\n",
       "        vertical-align: middle;\n",
       "    }\n",
       "\n",
       "    .dataframe tbody tr th {\n",
       "        vertical-align: top;\n",
       "    }\n",
       "\n",
       "    .dataframe thead th {\n",
       "        text-align: right;\n",
       "    }\n",
       "</style>\n",
       "<table border=\"1\" class=\"dataframe\">\n",
       "  <thead>\n",
       "    <tr style=\"text-align: right;\">\n",
       "      <th></th>\n",
       "      <th>Unnamed: 0</th>\n",
       "      <th>label</th>\n",
       "      <th>msisdn</th>\n",
       "      <th>aon</th>\n",
       "      <th>daily_decr30</th>\n",
       "      <th>daily_decr90</th>\n",
       "      <th>rental30</th>\n",
       "      <th>rental90</th>\n",
       "      <th>last_rech_date_ma</th>\n",
       "      <th>last_rech_date_da</th>\n",
       "      <th>...</th>\n",
       "      <th>maxamnt_loans30</th>\n",
       "      <th>medianamnt_loans30</th>\n",
       "      <th>cnt_loans90</th>\n",
       "      <th>amnt_loans90</th>\n",
       "      <th>maxamnt_loans90</th>\n",
       "      <th>medianamnt_loans90</th>\n",
       "      <th>payback30</th>\n",
       "      <th>payback90</th>\n",
       "      <th>pcircle</th>\n",
       "      <th>pdate</th>\n",
       "    </tr>\n",
       "  </thead>\n",
       "  <tbody>\n",
       "    <tr>\n",
       "      <td>0</td>\n",
       "      <td>1</td>\n",
       "      <td>0</td>\n",
       "      <td>21408I70789</td>\n",
       "      <td>272.0</td>\n",
       "      <td>3055.050000</td>\n",
       "      <td>3065.150000</td>\n",
       "      <td>220.13</td>\n",
       "      <td>260.13</td>\n",
       "      <td>2.0</td>\n",
       "      <td>0.0</td>\n",
       "      <td>...</td>\n",
       "      <td>6.0</td>\n",
       "      <td>0.0</td>\n",
       "      <td>2.0</td>\n",
       "      <td>12</td>\n",
       "      <td>6</td>\n",
       "      <td>0.0</td>\n",
       "      <td>29.000000</td>\n",
       "      <td>29.000000</td>\n",
       "      <td>UPW</td>\n",
       "      <td>2016-07-20</td>\n",
       "    </tr>\n",
       "    <tr>\n",
       "      <td>1</td>\n",
       "      <td>2</td>\n",
       "      <td>1</td>\n",
       "      <td>76462I70374</td>\n",
       "      <td>712.0</td>\n",
       "      <td>12122.000000</td>\n",
       "      <td>12124.750000</td>\n",
       "      <td>3691.26</td>\n",
       "      <td>3691.26</td>\n",
       "      <td>20.0</td>\n",
       "      <td>0.0</td>\n",
       "      <td>...</td>\n",
       "      <td>12.0</td>\n",
       "      <td>0.0</td>\n",
       "      <td>1.0</td>\n",
       "      <td>12</td>\n",
       "      <td>12</td>\n",
       "      <td>0.0</td>\n",
       "      <td>0.000000</td>\n",
       "      <td>0.000000</td>\n",
       "      <td>UPW</td>\n",
       "      <td>2016-08-10</td>\n",
       "    </tr>\n",
       "    <tr>\n",
       "      <td>2</td>\n",
       "      <td>3</td>\n",
       "      <td>1</td>\n",
       "      <td>17943I70372</td>\n",
       "      <td>535.0</td>\n",
       "      <td>1398.000000</td>\n",
       "      <td>1398.000000</td>\n",
       "      <td>900.13</td>\n",
       "      <td>900.13</td>\n",
       "      <td>3.0</td>\n",
       "      <td>0.0</td>\n",
       "      <td>...</td>\n",
       "      <td>6.0</td>\n",
       "      <td>0.0</td>\n",
       "      <td>1.0</td>\n",
       "      <td>6</td>\n",
       "      <td>6</td>\n",
       "      <td>0.0</td>\n",
       "      <td>0.000000</td>\n",
       "      <td>0.000000</td>\n",
       "      <td>UPW</td>\n",
       "      <td>2016-08-19</td>\n",
       "    </tr>\n",
       "    <tr>\n",
       "      <td>3</td>\n",
       "      <td>4</td>\n",
       "      <td>1</td>\n",
       "      <td>55773I70781</td>\n",
       "      <td>241.0</td>\n",
       "      <td>21.228000</td>\n",
       "      <td>21.228000</td>\n",
       "      <td>159.42</td>\n",
       "      <td>159.42</td>\n",
       "      <td>41.0</td>\n",
       "      <td>0.0</td>\n",
       "      <td>...</td>\n",
       "      <td>6.0</td>\n",
       "      <td>0.0</td>\n",
       "      <td>2.0</td>\n",
       "      <td>12</td>\n",
       "      <td>6</td>\n",
       "      <td>0.0</td>\n",
       "      <td>0.000000</td>\n",
       "      <td>0.000000</td>\n",
       "      <td>UPW</td>\n",
       "      <td>2016-06-06</td>\n",
       "    </tr>\n",
       "    <tr>\n",
       "      <td>4</td>\n",
       "      <td>5</td>\n",
       "      <td>1</td>\n",
       "      <td>03813I82730</td>\n",
       "      <td>947.0</td>\n",
       "      <td>150.619333</td>\n",
       "      <td>150.619333</td>\n",
       "      <td>1098.90</td>\n",
       "      <td>1098.90</td>\n",
       "      <td>4.0</td>\n",
       "      <td>0.0</td>\n",
       "      <td>...</td>\n",
       "      <td>6.0</td>\n",
       "      <td>0.0</td>\n",
       "      <td>7.0</td>\n",
       "      <td>42</td>\n",
       "      <td>6</td>\n",
       "      <td>0.0</td>\n",
       "      <td>2.333333</td>\n",
       "      <td>2.333333</td>\n",
       "      <td>UPW</td>\n",
       "      <td>2016-06-22</td>\n",
       "    </tr>\n",
       "  </tbody>\n",
       "</table>\n",
       "<p>5 rows × 37 columns</p>\n",
       "</div>"
      ],
      "text/plain": [
       "   Unnamed: 0  label       msisdn    aon  daily_decr30  daily_decr90  \\\n",
       "0           1      0  21408I70789  272.0   3055.050000   3065.150000   \n",
       "1           2      1  76462I70374  712.0  12122.000000  12124.750000   \n",
       "2           3      1  17943I70372  535.0   1398.000000   1398.000000   \n",
       "3           4      1  55773I70781  241.0     21.228000     21.228000   \n",
       "4           5      1  03813I82730  947.0    150.619333    150.619333   \n",
       "\n",
       "   rental30  rental90  last_rech_date_ma  last_rech_date_da  ...  \\\n",
       "0    220.13    260.13                2.0                0.0  ...   \n",
       "1   3691.26   3691.26               20.0                0.0  ...   \n",
       "2    900.13    900.13                3.0                0.0  ...   \n",
       "3    159.42    159.42               41.0                0.0  ...   \n",
       "4   1098.90   1098.90                4.0                0.0  ...   \n",
       "\n",
       "   maxamnt_loans30  medianamnt_loans30  cnt_loans90  amnt_loans90  \\\n",
       "0              6.0                 0.0          2.0            12   \n",
       "1             12.0                 0.0          1.0            12   \n",
       "2              6.0                 0.0          1.0             6   \n",
       "3              6.0                 0.0          2.0            12   \n",
       "4              6.0                 0.0          7.0            42   \n",
       "\n",
       "   maxamnt_loans90  medianamnt_loans90  payback30  payback90  pcircle  \\\n",
       "0                6                 0.0  29.000000  29.000000      UPW   \n",
       "1               12                 0.0   0.000000   0.000000      UPW   \n",
       "2                6                 0.0   0.000000   0.000000      UPW   \n",
       "3                6                 0.0   0.000000   0.000000      UPW   \n",
       "4                6                 0.0   2.333333   2.333333      UPW   \n",
       "\n",
       "        pdate  \n",
       "0  2016-07-20  \n",
       "1  2016-08-10  \n",
       "2  2016-08-19  \n",
       "3  2016-06-06  \n",
       "4  2016-06-22  \n",
       "\n",
       "[5 rows x 37 columns]"
      ]
     },
     "metadata": {},
     "output_type": "display_data"
    }
   ],
   "source": [
    "data.head()"
   ]
  },
  {
   "cell_type": "code",
   "execution_count": 4,
   "metadata": {},
   "outputs": [
    {
     "data": {
      "application/vnd.jupyter.widget-view+json": {
       "model_id": "e6f0d83df1454b7e989e2aa0a59b30fb"
      },
      "text/html": [
       "<div>\n",
       "<style scoped>\n",
       "    .dataframe tbody tr th:only-of-type {\n",
       "        vertical-align: middle;\n",
       "    }\n",
       "\n",
       "    .dataframe tbody tr th {\n",
       "        vertical-align: top;\n",
       "    }\n",
       "\n",
       "    .dataframe thead th {\n",
       "        text-align: right;\n",
       "    }\n",
       "</style>\n",
       "<table border=\"1\" class=\"dataframe\">\n",
       "  <thead>\n",
       "    <tr style=\"text-align: right;\">\n",
       "      <th></th>\n",
       "      <th>Unnamed: 0</th>\n",
       "      <th>label</th>\n",
       "      <th>aon</th>\n",
       "      <th>daily_decr30</th>\n",
       "      <th>daily_decr90</th>\n",
       "      <th>rental30</th>\n",
       "      <th>rental90</th>\n",
       "      <th>last_rech_date_ma</th>\n",
       "      <th>last_rech_date_da</th>\n",
       "      <th>last_rech_amt_ma</th>\n",
       "      <th>...</th>\n",
       "      <th>cnt_loans30</th>\n",
       "      <th>amnt_loans30</th>\n",
       "      <th>maxamnt_loans30</th>\n",
       "      <th>medianamnt_loans30</th>\n",
       "      <th>cnt_loans90</th>\n",
       "      <th>amnt_loans90</th>\n",
       "      <th>maxamnt_loans90</th>\n",
       "      <th>medianamnt_loans90</th>\n",
       "      <th>payback30</th>\n",
       "      <th>payback90</th>\n",
       "    </tr>\n",
       "  </thead>\n",
       "  <tbody>\n",
       "    <tr>\n",
       "      <td>count</td>\n",
       "      <td>209593.000000</td>\n",
       "      <td>209593.000000</td>\n",
       "      <td>209593.000000</td>\n",
       "      <td>209593.000000</td>\n",
       "      <td>209593.000000</td>\n",
       "      <td>209593.000000</td>\n",
       "      <td>209593.000000</td>\n",
       "      <td>209593.000000</td>\n",
       "      <td>209593.000000</td>\n",
       "      <td>209593.000000</td>\n",
       "      <td>...</td>\n",
       "      <td>209593.000000</td>\n",
       "      <td>209593.000000</td>\n",
       "      <td>209593.000000</td>\n",
       "      <td>209593.000000</td>\n",
       "      <td>209593.000000</td>\n",
       "      <td>209593.000000</td>\n",
       "      <td>209593.000000</td>\n",
       "      <td>209593.000000</td>\n",
       "      <td>209593.000000</td>\n",
       "      <td>209593.000000</td>\n",
       "    </tr>\n",
       "    <tr>\n",
       "      <td>mean</td>\n",
       "      <td>104797.000000</td>\n",
       "      <td>0.875177</td>\n",
       "      <td>8112.343445</td>\n",
       "      <td>5381.402289</td>\n",
       "      <td>6082.515068</td>\n",
       "      <td>2692.581910</td>\n",
       "      <td>3483.406534</td>\n",
       "      <td>3755.847800</td>\n",
       "      <td>3712.202921</td>\n",
       "      <td>2064.452797</td>\n",
       "      <td>...</td>\n",
       "      <td>2.758981</td>\n",
       "      <td>17.952021</td>\n",
       "      <td>274.658747</td>\n",
       "      <td>0.054029</td>\n",
       "      <td>18.520919</td>\n",
       "      <td>23.645398</td>\n",
       "      <td>6.703134</td>\n",
       "      <td>0.046077</td>\n",
       "      <td>3.398826</td>\n",
       "      <td>4.321485</td>\n",
       "    </tr>\n",
       "    <tr>\n",
       "      <td>std</td>\n",
       "      <td>60504.431823</td>\n",
       "      <td>0.330519</td>\n",
       "      <td>75696.082531</td>\n",
       "      <td>9220.623400</td>\n",
       "      <td>10918.812767</td>\n",
       "      <td>4308.586781</td>\n",
       "      <td>5770.461279</td>\n",
       "      <td>53905.892230</td>\n",
       "      <td>53374.833430</td>\n",
       "      <td>2370.786034</td>\n",
       "      <td>...</td>\n",
       "      <td>2.554502</td>\n",
       "      <td>17.379741</td>\n",
       "      <td>4245.264648</td>\n",
       "      <td>0.218039</td>\n",
       "      <td>224.797423</td>\n",
       "      <td>26.469861</td>\n",
       "      <td>2.103864</td>\n",
       "      <td>0.200692</td>\n",
       "      <td>8.813729</td>\n",
       "      <td>10.308108</td>\n",
       "    </tr>\n",
       "    <tr>\n",
       "      <td>min</td>\n",
       "      <td>1.000000</td>\n",
       "      <td>0.000000</td>\n",
       "      <td>-48.000000</td>\n",
       "      <td>-93.012667</td>\n",
       "      <td>-93.012667</td>\n",
       "      <td>-23737.140000</td>\n",
       "      <td>-24720.580000</td>\n",
       "      <td>-29.000000</td>\n",
       "      <td>-29.000000</td>\n",
       "      <td>0.000000</td>\n",
       "      <td>...</td>\n",
       "      <td>0.000000</td>\n",
       "      <td>0.000000</td>\n",
       "      <td>0.000000</td>\n",
       "      <td>0.000000</td>\n",
       "      <td>0.000000</td>\n",
       "      <td>0.000000</td>\n",
       "      <td>0.000000</td>\n",
       "      <td>0.000000</td>\n",
       "      <td>0.000000</td>\n",
       "      <td>0.000000</td>\n",
       "    </tr>\n",
       "    <tr>\n",
       "      <td>25%</td>\n",
       "      <td>52399.000000</td>\n",
       "      <td>1.000000</td>\n",
       "      <td>246.000000</td>\n",
       "      <td>42.440000</td>\n",
       "      <td>42.692000</td>\n",
       "      <td>280.420000</td>\n",
       "      <td>300.260000</td>\n",
       "      <td>1.000000</td>\n",
       "      <td>0.000000</td>\n",
       "      <td>770.000000</td>\n",
       "      <td>...</td>\n",
       "      <td>1.000000</td>\n",
       "      <td>6.000000</td>\n",
       "      <td>6.000000</td>\n",
       "      <td>0.000000</td>\n",
       "      <td>1.000000</td>\n",
       "      <td>6.000000</td>\n",
       "      <td>6.000000</td>\n",
       "      <td>0.000000</td>\n",
       "      <td>0.000000</td>\n",
       "      <td>0.000000</td>\n",
       "    </tr>\n",
       "    <tr>\n",
       "      <td>50%</td>\n",
       "      <td>104797.000000</td>\n",
       "      <td>1.000000</td>\n",
       "      <td>527.000000</td>\n",
       "      <td>1469.175667</td>\n",
       "      <td>1500.000000</td>\n",
       "      <td>1083.570000</td>\n",
       "      <td>1334.000000</td>\n",
       "      <td>3.000000</td>\n",
       "      <td>0.000000</td>\n",
       "      <td>1539.000000</td>\n",
       "      <td>...</td>\n",
       "      <td>2.000000</td>\n",
       "      <td>12.000000</td>\n",
       "      <td>6.000000</td>\n",
       "      <td>0.000000</td>\n",
       "      <td>2.000000</td>\n",
       "      <td>12.000000</td>\n",
       "      <td>6.000000</td>\n",
       "      <td>0.000000</td>\n",
       "      <td>0.000000</td>\n",
       "      <td>1.666667</td>\n",
       "    </tr>\n",
       "    <tr>\n",
       "      <td>75%</td>\n",
       "      <td>157195.000000</td>\n",
       "      <td>1.000000</td>\n",
       "      <td>982.000000</td>\n",
       "      <td>7244.000000</td>\n",
       "      <td>7802.790000</td>\n",
       "      <td>3356.940000</td>\n",
       "      <td>4201.790000</td>\n",
       "      <td>7.000000</td>\n",
       "      <td>0.000000</td>\n",
       "      <td>2309.000000</td>\n",
       "      <td>...</td>\n",
       "      <td>4.000000</td>\n",
       "      <td>24.000000</td>\n",
       "      <td>6.000000</td>\n",
       "      <td>0.000000</td>\n",
       "      <td>5.000000</td>\n",
       "      <td>30.000000</td>\n",
       "      <td>6.000000</td>\n",
       "      <td>0.000000</td>\n",
       "      <td>3.750000</td>\n",
       "      <td>4.500000</td>\n",
       "    </tr>\n",
       "    <tr>\n",
       "      <td>max</td>\n",
       "      <td>209593.000000</td>\n",
       "      <td>1.000000</td>\n",
       "      <td>999860.755168</td>\n",
       "      <td>265926.000000</td>\n",
       "      <td>320630.000000</td>\n",
       "      <td>198926.110000</td>\n",
       "      <td>200148.110000</td>\n",
       "      <td>998650.377733</td>\n",
       "      <td>999171.809410</td>\n",
       "      <td>55000.000000</td>\n",
       "      <td>...</td>\n",
       "      <td>50.000000</td>\n",
       "      <td>306.000000</td>\n",
       "      <td>99864.560864</td>\n",
       "      <td>3.000000</td>\n",
       "      <td>4997.517944</td>\n",
       "      <td>438.000000</td>\n",
       "      <td>12.000000</td>\n",
       "      <td>3.000000</td>\n",
       "      <td>171.500000</td>\n",
       "      <td>171.500000</td>\n",
       "    </tr>\n",
       "  </tbody>\n",
       "</table>\n",
       "<p>8 rows × 34 columns</p>\n",
       "</div>"
      ],
      "text/plain": [
       "          Unnamed: 0          label            aon   daily_decr30  \\\n",
       "count  209593.000000  209593.000000  209593.000000  209593.000000   \n",
       "mean   104797.000000       0.875177    8112.343445    5381.402289   \n",
       "std     60504.431823       0.330519   75696.082531    9220.623400   \n",
       "min         1.000000       0.000000     -48.000000     -93.012667   \n",
       "25%     52399.000000       1.000000     246.000000      42.440000   \n",
       "50%    104797.000000       1.000000     527.000000    1469.175667   \n",
       "75%    157195.000000       1.000000     982.000000    7244.000000   \n",
       "max    209593.000000       1.000000  999860.755168  265926.000000   \n",
       "\n",
       "        daily_decr90       rental30       rental90  last_rech_date_ma  \\\n",
       "count  209593.000000  209593.000000  209593.000000      209593.000000   \n",
       "mean     6082.515068    2692.581910    3483.406534        3755.847800   \n",
       "std     10918.812767    4308.586781    5770.461279       53905.892230   \n",
       "min       -93.012667  -23737.140000  -24720.580000         -29.000000   \n",
       "25%        42.692000     280.420000     300.260000           1.000000   \n",
       "50%      1500.000000    1083.570000    1334.000000           3.000000   \n",
       "75%      7802.790000    3356.940000    4201.790000           7.000000   \n",
       "max    320630.000000  198926.110000  200148.110000      998650.377733   \n",
       "\n",
       "       last_rech_date_da  last_rech_amt_ma  ...    cnt_loans30   amnt_loans30  \\\n",
       "count      209593.000000     209593.000000  ...  209593.000000  209593.000000   \n",
       "mean         3712.202921       2064.452797  ...       2.758981      17.952021   \n",
       "std         53374.833430       2370.786034  ...       2.554502      17.379741   \n",
       "min           -29.000000          0.000000  ...       0.000000       0.000000   \n",
       "25%             0.000000        770.000000  ...       1.000000       6.000000   \n",
       "50%             0.000000       1539.000000  ...       2.000000      12.000000   \n",
       "75%             0.000000       2309.000000  ...       4.000000      24.000000   \n",
       "max        999171.809410      55000.000000  ...      50.000000     306.000000   \n",
       "\n",
       "       maxamnt_loans30  medianamnt_loans30    cnt_loans90   amnt_loans90  \\\n",
       "count    209593.000000       209593.000000  209593.000000  209593.000000   \n",
       "mean        274.658747            0.054029      18.520919      23.645398   \n",
       "std        4245.264648            0.218039     224.797423      26.469861   \n",
       "min           0.000000            0.000000       0.000000       0.000000   \n",
       "25%           6.000000            0.000000       1.000000       6.000000   \n",
       "50%           6.000000            0.000000       2.000000      12.000000   \n",
       "75%           6.000000            0.000000       5.000000      30.000000   \n",
       "max       99864.560864            3.000000    4997.517944     438.000000   \n",
       "\n",
       "       maxamnt_loans90  medianamnt_loans90      payback30      payback90  \n",
       "count    209593.000000       209593.000000  209593.000000  209593.000000  \n",
       "mean          6.703134            0.046077       3.398826       4.321485  \n",
       "std           2.103864            0.200692       8.813729      10.308108  \n",
       "min           0.000000            0.000000       0.000000       0.000000  \n",
       "25%           6.000000            0.000000       0.000000       0.000000  \n",
       "50%           6.000000            0.000000       0.000000       1.666667  \n",
       "75%           6.000000            0.000000       3.750000       4.500000  \n",
       "max          12.000000            3.000000     171.500000     171.500000  \n",
       "\n",
       "[8 rows x 34 columns]"
      ]
     },
     "metadata": {},
     "output_type": "display_data"
    }
   ],
   "source": [
    "data.describe()"
   ]
  },
  {
   "cell_type": "code",
   "execution_count": 5,
   "metadata": {},
   "outputs": [
    {
     "name": "stdout",
     "output_type": "stream",
     "text": [
      "<class 'pandas.core.frame.DataFrame'>\n",
      "RangeIndex: 209593 entries, 0 to 209592\n",
      "Data columns (total 37 columns):\n",
      "Unnamed: 0              209593 non-null int64\n",
      "label                   209593 non-null int64\n",
      "msisdn                  209593 non-null object\n",
      "aon                     209593 non-null float64\n",
      "daily_decr30            209593 non-null float64\n",
      "daily_decr90            209593 non-null float64\n",
      "rental30                209593 non-null float64\n",
      "rental90                209593 non-null float64\n",
      "last_rech_date_ma       209593 non-null float64\n",
      "last_rech_date_da       209593 non-null float64\n",
      "last_rech_amt_ma        209593 non-null int64\n",
      "cnt_ma_rech30           209593 non-null int64\n",
      "fr_ma_rech30            209593 non-null float64\n",
      "sumamnt_ma_rech30       209593 non-null float64\n",
      "medianamnt_ma_rech30    209593 non-null float64\n",
      "medianmarechprebal30    209593 non-null float64\n",
      "cnt_ma_rech90           209593 non-null int64\n",
      "fr_ma_rech90            209593 non-null int64\n",
      "sumamnt_ma_rech90       209593 non-null int64\n",
      "medianamnt_ma_rech90    209593 non-null float64\n",
      "medianmarechprebal90    209593 non-null float64\n",
      "cnt_da_rech30           209593 non-null float64\n",
      "fr_da_rech30            209593 non-null float64\n",
      "cnt_da_rech90           209593 non-null int64\n",
      "fr_da_rech90            209593 non-null int64\n",
      "cnt_loans30             209593 non-null int64\n",
      "amnt_loans30            209593 non-null int64\n",
      "maxamnt_loans30         209593 non-null float64\n",
      "medianamnt_loans30      209593 non-null float64\n",
      "cnt_loans90             209593 non-null float64\n",
      "amnt_loans90            209593 non-null int64\n",
      "maxamnt_loans90         209593 non-null int64\n",
      "medianamnt_loans90      209593 non-null float64\n",
      "payback30               209593 non-null float64\n",
      "payback90               209593 non-null float64\n",
      "pcircle                 209593 non-null object\n",
      "pdate                   209593 non-null object\n",
      "dtypes: float64(21), int64(13), object(3)\n",
      "memory usage: 59.2+ MB\n"
     ]
    }
   ],
   "source": [
    "data.info()"
   ]
  },
  {
   "cell_type": "code",
   "execution_count": 6,
   "metadata": {},
   "outputs": [
    {
     "data": {
      "text/plain": [
       "Unnamed: 0              0\n",
       "label                   0\n",
       "msisdn                  0\n",
       "aon                     0\n",
       "daily_decr30            0\n",
       "daily_decr90            0\n",
       "rental30                0\n",
       "rental90                0\n",
       "last_rech_date_ma       0\n",
       "last_rech_date_da       0\n",
       "last_rech_amt_ma        0\n",
       "cnt_ma_rech30           0\n",
       "fr_ma_rech30            0\n",
       "sumamnt_ma_rech30       0\n",
       "medianamnt_ma_rech30    0\n",
       "medianmarechprebal30    0\n",
       "cnt_ma_rech90           0\n",
       "fr_ma_rech90            0\n",
       "sumamnt_ma_rech90       0\n",
       "medianamnt_ma_rech90    0\n",
       "medianmarechprebal90    0\n",
       "cnt_da_rech30           0\n",
       "fr_da_rech30            0\n",
       "cnt_da_rech90           0\n",
       "fr_da_rech90            0\n",
       "cnt_loans30             0\n",
       "amnt_loans30            0\n",
       "maxamnt_loans30         0\n",
       "medianamnt_loans30      0\n",
       "cnt_loans90             0\n",
       "amnt_loans90            0\n",
       "maxamnt_loans90         0\n",
       "medianamnt_loans90      0\n",
       "payback30               0\n",
       "payback90               0\n",
       "pcircle                 0\n",
       "pdate                   0\n",
       "dtype: int64"
      ]
     },
     "execution_count": 6,
     "metadata": {},
     "output_type": "execute_result"
    }
   ],
   "source": [
    "#Looking for missing values\n",
    "data.isnull().sum()"
   ]
  },
  {
   "cell_type": "code",
   "execution_count": 7,
   "metadata": {},
   "outputs": [
    {
     "data": {
      "text/plain": [
       "count          209593\n",
       "unique         186243\n",
       "top       47819I90840\n",
       "freq                7\n",
       "Name: msisdn, dtype: object"
      ]
     },
     "execution_count": 7,
     "metadata": {},
     "output_type": "execute_result"
    }
   ],
   "source": [
    "data['msisdn'].describe()"
   ]
  },
  {
   "cell_type": "code",
   "execution_count": 8,
   "metadata": {},
   "outputs": [
    {
     "data": {
      "application/vnd.jupyter.widget-view+json": {
       "model_id": "e7e36db2b167495fbb46cb83b74872fb"
      },
      "text/html": [
       "<div>\n",
       "<style scoped>\n",
       "    .dataframe tbody tr th:only-of-type {\n",
       "        vertical-align: middle;\n",
       "    }\n",
       "\n",
       "    .dataframe tbody tr th {\n",
       "        vertical-align: top;\n",
       "    }\n",
       "\n",
       "    .dataframe thead th {\n",
       "        text-align: right;\n",
       "    }\n",
       "</style>\n",
       "<table border=\"1\" class=\"dataframe\">\n",
       "  <thead>\n",
       "    <tr style=\"text-align: right;\">\n",
       "      <th></th>\n",
       "      <th>Unnamed: 0</th>\n",
       "      <th>label</th>\n",
       "      <th>msisdn</th>\n",
       "      <th>aon</th>\n",
       "      <th>daily_decr30</th>\n",
       "      <th>daily_decr90</th>\n",
       "      <th>rental30</th>\n",
       "      <th>rental90</th>\n",
       "      <th>last_rech_date_ma</th>\n",
       "      <th>last_rech_date_da</th>\n",
       "      <th>...</th>\n",
       "      <th>maxamnt_loans30</th>\n",
       "      <th>medianamnt_loans30</th>\n",
       "      <th>cnt_loans90</th>\n",
       "      <th>amnt_loans90</th>\n",
       "      <th>maxamnt_loans90</th>\n",
       "      <th>medianamnt_loans90</th>\n",
       "      <th>payback30</th>\n",
       "      <th>payback90</th>\n",
       "      <th>pcircle</th>\n",
       "      <th>pdate</th>\n",
       "    </tr>\n",
       "  </thead>\n",
       "  <tbody>\n",
       "    <tr>\n",
       "      <td>6275</td>\n",
       "      <td>6276</td>\n",
       "      <td>1</td>\n",
       "      <td>04581I85330</td>\n",
       "      <td>513.0</td>\n",
       "      <td>99.792</td>\n",
       "      <td>99.792</td>\n",
       "      <td>1489.50</td>\n",
       "      <td>1489.50</td>\n",
       "      <td>1.0</td>\n",
       "      <td>0.0</td>\n",
       "      <td>...</td>\n",
       "      <td>6.0</td>\n",
       "      <td>0.0</td>\n",
       "      <td>7.0</td>\n",
       "      <td>42</td>\n",
       "      <td>6</td>\n",
       "      <td>0.0</td>\n",
       "      <td>2.285714</td>\n",
       "      <td>2.285714</td>\n",
       "      <td>UPW</td>\n",
       "      <td>2016-06-18</td>\n",
       "    </tr>\n",
       "    <tr>\n",
       "      <td>14274</td>\n",
       "      <td>14275</td>\n",
       "      <td>1</td>\n",
       "      <td>04581I85330</td>\n",
       "      <td>562.0</td>\n",
       "      <td>5206.792</td>\n",
       "      <td>5273.320</td>\n",
       "      <td>1889.76</td>\n",
       "      <td>2882.76</td>\n",
       "      <td>5.0</td>\n",
       "      <td>0.0</td>\n",
       "      <td>...</td>\n",
       "      <td>6.0</td>\n",
       "      <td>0.0</td>\n",
       "      <td>13.0</td>\n",
       "      <td>78</td>\n",
       "      <td>6</td>\n",
       "      <td>0.0</td>\n",
       "      <td>2.444444</td>\n",
       "      <td>2.615385</td>\n",
       "      <td>UPW</td>\n",
       "      <td>2016-07-12</td>\n",
       "    </tr>\n",
       "    <tr>\n",
       "      <td>33543</td>\n",
       "      <td>33544</td>\n",
       "      <td>1</td>\n",
       "      <td>04581I85330</td>\n",
       "      <td>509.0</td>\n",
       "      <td>88.704</td>\n",
       "      <td>88.704</td>\n",
       "      <td>1324.00</td>\n",
       "      <td>1324.00</td>\n",
       "      <td>1.0</td>\n",
       "      <td>0.0</td>\n",
       "      <td>...</td>\n",
       "      <td>6.0</td>\n",
       "      <td>0.0</td>\n",
       "      <td>5.0</td>\n",
       "      <td>30</td>\n",
       "      <td>6</td>\n",
       "      <td>0.0</td>\n",
       "      <td>2.333333</td>\n",
       "      <td>2.333333</td>\n",
       "      <td>UPW</td>\n",
       "      <td>2016-06-16</td>\n",
       "    </tr>\n",
       "    <tr>\n",
       "      <td>64319</td>\n",
       "      <td>64320</td>\n",
       "      <td>1</td>\n",
       "      <td>04581I85330</td>\n",
       "      <td>480.0</td>\n",
       "      <td>5.544</td>\n",
       "      <td>5.544</td>\n",
       "      <td>82.75</td>\n",
       "      <td>82.75</td>\n",
       "      <td>2.0</td>\n",
       "      <td>0.0</td>\n",
       "      <td>...</td>\n",
       "      <td>6.0</td>\n",
       "      <td>0.5</td>\n",
       "      <td>2.0</td>\n",
       "      <td>12</td>\n",
       "      <td>6</td>\n",
       "      <td>0.5</td>\n",
       "      <td>2.000000</td>\n",
       "      <td>2.000000</td>\n",
       "      <td>UPW</td>\n",
       "      <td>2016-06-01</td>\n",
       "    </tr>\n",
       "    <tr>\n",
       "      <td>132784</td>\n",
       "      <td>132785</td>\n",
       "      <td>1</td>\n",
       "      <td>04581I85330</td>\n",
       "      <td>602.0</td>\n",
       "      <td>22845.000</td>\n",
       "      <td>28260.320</td>\n",
       "      <td>6263.82</td>\n",
       "      <td>9146.58</td>\n",
       "      <td>1.0</td>\n",
       "      <td>0.0</td>\n",
       "      <td>...</td>\n",
       "      <td>6.0</td>\n",
       "      <td>0.0</td>\n",
       "      <td>19.0</td>\n",
       "      <td>114</td>\n",
       "      <td>6</td>\n",
       "      <td>0.0</td>\n",
       "      <td>2.555556</td>\n",
       "      <td>2.590909</td>\n",
       "      <td>UPW</td>\n",
       "      <td>2016-08-13</td>\n",
       "    </tr>\n",
       "    <tr>\n",
       "      <td>132956</td>\n",
       "      <td>132957</td>\n",
       "      <td>1</td>\n",
       "      <td>04581I85330</td>\n",
       "      <td>606.0</td>\n",
       "      <td>1146.000</td>\n",
       "      <td>1146.000</td>\n",
       "      <td>869.56</td>\n",
       "      <td>869.56</td>\n",
       "      <td>0.0</td>\n",
       "      <td>0.0</td>\n",
       "      <td>...</td>\n",
       "      <td>6.0</td>\n",
       "      <td>0.0</td>\n",
       "      <td>1.0</td>\n",
       "      <td>6</td>\n",
       "      <td>6</td>\n",
       "      <td>0.0</td>\n",
       "      <td>0.000000</td>\n",
       "      <td>0.000000</td>\n",
       "      <td>UPW</td>\n",
       "      <td>2016-08-17</td>\n",
       "    </tr>\n",
       "    <tr>\n",
       "      <td>158319</td>\n",
       "      <td>158320</td>\n",
       "      <td>1</td>\n",
       "      <td>04581I85330</td>\n",
       "      <td>601.0</td>\n",
       "      <td>20023.000</td>\n",
       "      <td>25402.320</td>\n",
       "      <td>5341.82</td>\n",
       "      <td>8224.58</td>\n",
       "      <td>2.0</td>\n",
       "      <td>0.0</td>\n",
       "      <td>...</td>\n",
       "      <td>6.0</td>\n",
       "      <td>0.0</td>\n",
       "      <td>18.0</td>\n",
       "      <td>108</td>\n",
       "      <td>6</td>\n",
       "      <td>0.0</td>\n",
       "      <td>2.857143</td>\n",
       "      <td>2.700000</td>\n",
       "      <td>UPW</td>\n",
       "      <td>2016-08-12</td>\n",
       "    </tr>\n",
       "  </tbody>\n",
       "</table>\n",
       "<p>7 rows × 37 columns</p>\n",
       "</div>"
      ],
      "text/plain": [
       "        Unnamed: 0  label       msisdn    aon  daily_decr30  daily_decr90  \\\n",
       "6275          6276      1  04581I85330  513.0        99.792        99.792   \n",
       "14274        14275      1  04581I85330  562.0      5206.792      5273.320   \n",
       "33543        33544      1  04581I85330  509.0        88.704        88.704   \n",
       "64319        64320      1  04581I85330  480.0         5.544         5.544   \n",
       "132784      132785      1  04581I85330  602.0     22845.000     28260.320   \n",
       "132956      132957      1  04581I85330  606.0      1146.000      1146.000   \n",
       "158319      158320      1  04581I85330  601.0     20023.000     25402.320   \n",
       "\n",
       "        rental30  rental90  last_rech_date_ma  last_rech_date_da  ...  \\\n",
       "6275     1489.50   1489.50                1.0                0.0  ...   \n",
       "14274    1889.76   2882.76                5.0                0.0  ...   \n",
       "33543    1324.00   1324.00                1.0                0.0  ...   \n",
       "64319      82.75     82.75                2.0                0.0  ...   \n",
       "132784   6263.82   9146.58                1.0                0.0  ...   \n",
       "132956    869.56    869.56                0.0                0.0  ...   \n",
       "158319   5341.82   8224.58                2.0                0.0  ...   \n",
       "\n",
       "        maxamnt_loans30  medianamnt_loans30  cnt_loans90  amnt_loans90  \\\n",
       "6275                6.0                 0.0          7.0            42   \n",
       "14274               6.0                 0.0         13.0            78   \n",
       "33543               6.0                 0.0          5.0            30   \n",
       "64319               6.0                 0.5          2.0            12   \n",
       "132784              6.0                 0.0         19.0           114   \n",
       "132956              6.0                 0.0          1.0             6   \n",
       "158319              6.0                 0.0         18.0           108   \n",
       "\n",
       "        maxamnt_loans90  medianamnt_loans90  payback30  payback90  pcircle  \\\n",
       "6275                  6                 0.0   2.285714   2.285714      UPW   \n",
       "14274                 6                 0.0   2.444444   2.615385      UPW   \n",
       "33543                 6                 0.0   2.333333   2.333333      UPW   \n",
       "64319                 6                 0.5   2.000000   2.000000      UPW   \n",
       "132784                6                 0.0   2.555556   2.590909      UPW   \n",
       "132956                6                 0.0   0.000000   0.000000      UPW   \n",
       "158319                6                 0.0   2.857143   2.700000      UPW   \n",
       "\n",
       "             pdate  \n",
       "6275    2016-06-18  \n",
       "14274   2016-07-12  \n",
       "33543   2016-06-16  \n",
       "64319   2016-06-01  \n",
       "132784  2016-08-13  \n",
       "132956  2016-08-17  \n",
       "158319  2016-08-12  \n",
       "\n",
       "[7 rows x 37 columns]"
      ]
     },
     "metadata": {},
     "output_type": "display_data"
    }
   ],
   "source": [
    "data[:][data['msisdn']=='04581I85330']"
   ]
  },
  {
   "cell_type": "markdown",
   "metadata": {},
   "source": [
    "# Exploratory Data Analysis & Data Preprocessing "
   ]
  },
  {
   "cell_type": "markdown",
   "metadata": {},
   "source": [
    "# ==>Dropping unnecessary variables"
   ]
  },
  {
   "cell_type": "code",
   "execution_count": 9,
   "metadata": {},
   "outputs": [
    {
     "data": {
      "text/plain": [
       "(209593, 37)"
      ]
     },
     "execution_count": 9,
     "metadata": {},
     "output_type": "execute_result"
    }
   ],
   "source": [
    "data.shape"
   ]
  },
  {
   "cell_type": "code",
   "execution_count": 10,
   "metadata": {},
   "outputs": [],
   "source": [
    "#Droping the index column\n",
    "data.drop('Unnamed: 0',axis=1,inplace=True)"
   ]
  },
  {
   "cell_type": "code",
   "execution_count": 11,
   "metadata": {},
   "outputs": [
    {
     "name": "stdout",
     "output_type": "stream",
     "text": [
      "There is only 1 unique value that is ['UPW']\n"
     ]
    }
   ],
   "source": [
    "a = data[\"pcircle\"].unique()\n",
    "b = data[\"pcircle\"].nunique()\n",
    "print(f\"There is only {b} unique value that is {a}\")"
   ]
  },
  {
   "cell_type": "code",
   "execution_count": 12,
   "metadata": {},
   "outputs": [],
   "source": [
    "#Dropping \"pcircle (telecom circle)\" column\n",
    "data.drop(\"pcircle\",axis=1,inplace=True)"
   ]
  },
  {
   "cell_type": "code",
   "execution_count": 13,
   "metadata": {},
   "outputs": [],
   "source": [
    "#Dropping \"msisdn (mobile number of user)\" column\n",
    "data.drop(\"msisdn\",axis=1,inplace=True)"
   ]
  },
  {
   "cell_type": "code",
   "execution_count": 14,
   "metadata": {},
   "outputs": [],
   "source": [
    "#Dropping \"pdate (date)\" column\n",
    "data.drop(\"pdate\",axis=1,inplace=True)"
   ]
  },
  {
   "cell_type": "code",
   "execution_count": 15,
   "metadata": {},
   "outputs": [
    {
     "data": {
      "text/plain": [
       "(209593, 33)"
      ]
     },
     "execution_count": 15,
     "metadata": {},
     "output_type": "execute_result"
    }
   ],
   "source": [
    "data.shape"
   ]
  },
  {
   "cell_type": "markdown",
   "metadata": {},
   "source": [
    "# ==>Scaling the data"
   ]
  },
  {
   "cell_type": "code",
   "execution_count": 16,
   "metadata": {},
   "outputs": [
    {
     "data": {
      "text/plain": [
       "<matplotlib.axes._subplots.AxesSubplot at 0x2185169c688>"
      ]
     },
     "execution_count": 16,
     "metadata": {},
     "output_type": "execute_result"
    },
    {
     "data": {
      "image/png": "[encoded data removed]",
      "text/plain": [
       "<Figure size 432x288 with 1 Axes>"
      ]
     },
     "metadata": {
      "needs_background": "light"
     },
     "output_type": "display_data"
    }
   ],
   "source": [
    "data.aon.plot(kind='density')"
   ]
  },
  {
   "cell_type": "code",
   "execution_count": 17,
   "metadata": {},
   "outputs": [],
   "source": [
    "#Target Variable (Label)\n",
    "data_label = data.iloc[:,0]"
   ]
  },
  {
   "cell_type": "code",
   "execution_count": 18,
   "metadata": {},
   "outputs": [],
   "source": [
    "#Dropping the target variable from dataframe\n",
    "data.drop(\"label\",axis=1,inplace=True)"
   ]
  },
  {
   "cell_type": "code",
   "execution_count": 19,
   "metadata": {},
   "outputs": [],
   "source": [
    "headnames=[str(i) for i in data.columns]"
   ]
  },
  {
   "cell_type": "code",
   "execution_count": 20,
   "metadata": {},
   "outputs": [],
   "source": [
    "from sklearn.preprocessing import Normalizer\n",
    "scaller=Normalizer()\n",
    "data = scaller.fit_transform(data)"
   ]
  },
  {
   "cell_type": "code",
   "execution_count": 21,
   "metadata": {},
   "outputs": [
    {
     "data": {
      "text/plain": [
       "numpy.ndarray"
      ]
     },
     "execution_count": 21,
     "metadata": {},
     "output_type": "execute_result"
    }
   ],
   "source": [
    "type(data)"
   ]
  },
  {
   "cell_type": "code",
   "execution_count": 22,
   "metadata": {},
   "outputs": [],
   "source": [
    "data=pd.DataFrame(data,columns=headnames[0:])"
   ]
  },
  {
   "cell_type": "code",
   "execution_count": 23,
   "metadata": {},
   "outputs": [
    {
     "data": {
      "text/plain": [
       "(209593, 32)"
      ]
     },
     "execution_count": 23,
     "metadata": {},
     "output_type": "execute_result"
    }
   ],
   "source": [
    "data.shape"
   ]
  },
  {
   "cell_type": "code",
   "execution_count": 24,
   "metadata": {},
   "outputs": [
    {
     "data": {
      "application/vnd.jupyter.widget-view+json": {
       "model_id": "42edb8c16e934bc9b34f4101cb3746f7"
      },
      "text/html": [
       "<div>\n",
       "<style scoped>\n",
       "    .dataframe tbody tr th:only-of-type {\n",
       "        vertical-align: middle;\n",
       "    }\n",
       "\n",
       "    .dataframe tbody tr th {\n",
       "        vertical-align: top;\n",
       "    }\n",
       "\n",
       "    .dataframe thead th {\n",
       "        text-align: right;\n",
       "    }\n",
       "</style>\n",
       "<table border=\"1\" class=\"dataframe\">\n",
       "  <thead>\n",
       "    <tr style=\"text-align: right;\">\n",
       "      <th></th>\n",
       "      <th>aon</th>\n",
       "      <th>daily_decr30</th>\n",
       "      <th>daily_decr90</th>\n",
       "      <th>rental30</th>\n",
       "      <th>rental90</th>\n",
       "      <th>last_rech_date_ma</th>\n",
       "      <th>last_rech_date_da</th>\n",
       "      <th>last_rech_amt_ma</th>\n",
       "      <th>cnt_ma_rech30</th>\n",
       "      <th>fr_ma_rech30</th>\n",
       "      <th>...</th>\n",
       "      <th>cnt_loans30</th>\n",
       "      <th>amnt_loans30</th>\n",
       "      <th>maxamnt_loans30</th>\n",
       "      <th>medianamnt_loans30</th>\n",
       "      <th>cnt_loans90</th>\n",
       "      <th>amnt_loans90</th>\n",
       "      <th>maxamnt_loans90</th>\n",
       "      <th>medianamnt_loans90</th>\n",
       "      <th>payback30</th>\n",
       "      <th>payback90</th>\n",
       "    </tr>\n",
       "  </thead>\n",
       "  <tbody>\n",
       "    <tr>\n",
       "      <td>0</td>\n",
       "      <td>0.040558</td>\n",
       "      <td>0.455545</td>\n",
       "      <td>0.457051</td>\n",
       "      <td>0.032824</td>\n",
       "      <td>0.038789</td>\n",
       "      <td>0.000298</td>\n",
       "      <td>0.0</td>\n",
       "      <td>0.229483</td>\n",
       "      <td>0.000298</td>\n",
       "      <td>0.003131</td>\n",
       "      <td>...</td>\n",
       "      <td>0.000298</td>\n",
       "      <td>0.001789</td>\n",
       "      <td>0.000895</td>\n",
       "      <td>0.0</td>\n",
       "      <td>0.000298</td>\n",
       "      <td>0.001789</td>\n",
       "      <td>0.000895</td>\n",
       "      <td>0.0</td>\n",
       "      <td>0.004324</td>\n",
       "      <td>0.004324</td>\n",
       "    </tr>\n",
       "    <tr>\n",
       "      <td>1</td>\n",
       "      <td>0.032192</td>\n",
       "      <td>0.548083</td>\n",
       "      <td>0.548207</td>\n",
       "      <td>0.166896</td>\n",
       "      <td>0.166896</td>\n",
       "      <td>0.000904</td>\n",
       "      <td>0.0</td>\n",
       "      <td>0.261653</td>\n",
       "      <td>0.000045</td>\n",
       "      <td>0.000000</td>\n",
       "      <td>...</td>\n",
       "      <td>0.000045</td>\n",
       "      <td>0.000543</td>\n",
       "      <td>0.000543</td>\n",
       "      <td>0.0</td>\n",
       "      <td>0.000045</td>\n",
       "      <td>0.000543</td>\n",
       "      <td>0.000543</td>\n",
       "      <td>0.0</td>\n",
       "      <td>0.000000</td>\n",
       "      <td>0.000000</td>\n",
       "    </tr>\n",
       "    <tr>\n",
       "      <td>2</td>\n",
       "      <td>0.127283</td>\n",
       "      <td>0.332602</td>\n",
       "      <td>0.332602</td>\n",
       "      <td>0.214152</td>\n",
       "      <td>0.214152</td>\n",
       "      <td>0.000714</td>\n",
       "      <td>0.0</td>\n",
       "      <td>0.366148</td>\n",
       "      <td>0.000238</td>\n",
       "      <td>0.000000</td>\n",
       "      <td>...</td>\n",
       "      <td>0.000238</td>\n",
       "      <td>0.001427</td>\n",
       "      <td>0.001427</td>\n",
       "      <td>0.0</td>\n",
       "      <td>0.000238</td>\n",
       "      <td>0.001427</td>\n",
       "      <td>0.001427</td>\n",
       "      <td>0.0</td>\n",
       "      <td>0.000000</td>\n",
       "      <td>0.000000</td>\n",
       "    </tr>\n",
       "    <tr>\n",
       "      <td>3</td>\n",
       "      <td>0.143966</td>\n",
       "      <td>0.012681</td>\n",
       "      <td>0.012681</td>\n",
       "      <td>0.095233</td>\n",
       "      <td>0.095233</td>\n",
       "      <td>0.024492</td>\n",
       "      <td>0.0</td>\n",
       "      <td>0.565709</td>\n",
       "      <td>0.000000</td>\n",
       "      <td>0.000000</td>\n",
       "      <td>...</td>\n",
       "      <td>0.001195</td>\n",
       "      <td>0.007168</td>\n",
       "      <td>0.003584</td>\n",
       "      <td>0.0</td>\n",
       "      <td>0.001195</td>\n",
       "      <td>0.007168</td>\n",
       "      <td>0.003584</td>\n",
       "      <td>0.0</td>\n",
       "      <td>0.000000</td>\n",
       "      <td>0.000000</td>\n",
       "    </tr>\n",
       "    <tr>\n",
       "      <td>4</td>\n",
       "      <td>0.030319</td>\n",
       "      <td>0.004822</td>\n",
       "      <td>0.004822</td>\n",
       "      <td>0.035182</td>\n",
       "      <td>0.035182</td>\n",
       "      <td>0.000128</td>\n",
       "      <td>0.0</td>\n",
       "      <td>0.073925</td>\n",
       "      <td>0.000224</td>\n",
       "      <td>0.000064</td>\n",
       "      <td>...</td>\n",
       "      <td>0.000224</td>\n",
       "      <td>0.001345</td>\n",
       "      <td>0.000192</td>\n",
       "      <td>0.0</td>\n",
       "      <td>0.000224</td>\n",
       "      <td>0.001345</td>\n",
       "      <td>0.000192</td>\n",
       "      <td>0.0</td>\n",
       "      <td>0.000075</td>\n",
       "      <td>0.000075</td>\n",
       "    </tr>\n",
       "  </tbody>\n",
       "</table>\n",
       "<p>5 rows × 32 columns</p>\n",
       "</div>"
      ],
      "text/plain": [
       "        aon  daily_decr30  daily_decr90  rental30  rental90  \\\n",
       "0  0.040558      0.455545      0.457051  0.032824  0.038789   \n",
       "1  0.032192      0.548083      0.548207  0.166896  0.166896   \n",
       "2  0.127283      0.332602      0.332602  0.214152  0.214152   \n",
       "3  0.143966      0.012681      0.012681  0.095233  0.095233   \n",
       "4  0.030319      0.004822      0.004822  0.035182  0.035182   \n",
       "\n",
       "   last_rech_date_ma  last_rech_date_da  last_rech_amt_ma  cnt_ma_rech30  \\\n",
       "0           0.000298                0.0          0.229483       0.000298   \n",
       "1           0.000904                0.0          0.261653       0.000045   \n",
       "2           0.000714                0.0          0.366148       0.000238   \n",
       "3           0.024492                0.0          0.565709       0.000000   \n",
       "4           0.000128                0.0          0.073925       0.000224   \n",
       "\n",
       "   fr_ma_rech30  ...  cnt_loans30  amnt_loans30  maxamnt_loans30  \\\n",
       "0      0.003131  ...     0.000298      0.001789         0.000895   \n",
       "1      0.000000  ...     0.000045      0.000543         0.000543   \n",
       "2      0.000000  ...     0.000238      0.001427         0.001427   \n",
       "3      0.000000  ...     0.001195      0.007168         0.003584   \n",
       "4      0.000064  ...     0.000224      0.001345         0.000192   \n",
       "\n",
       "   medianamnt_loans30  cnt_loans90  amnt_loans90  maxamnt_loans90  \\\n",
       "0                 0.0     0.000298      0.001789         0.000895   \n",
       "1                 0.0     0.000045      0.000543         0.000543   \n",
       "2                 0.0     0.000238      0.001427         0.001427   \n",
       "3                 0.0     0.001195      0.007168         0.003584   \n",
       "4                 0.0     0.000224      0.001345         0.000192   \n",
       "\n",
       "   medianamnt_loans90  payback30  payback90  \n",
       "0                 0.0   0.004324   0.004324  \n",
       "1                 0.0   0.000000   0.000000  \n",
       "2                 0.0   0.000000   0.000000  \n",
       "3                 0.0   0.000000   0.000000  \n",
       "4                 0.0   0.000075   0.000075  \n",
       "\n",
       "[5 rows x 32 columns]"
      ]
     },
     "metadata": {},
     "output_type": "display_data"
    }
   ],
   "source": [
    "data.head(5)"
   ]
  },
  {
   "cell_type": "code",
   "execution_count": 25,
   "metadata": {},
   "outputs": [
    {
     "data": {
      "application/vnd.jupyter.widget-view+json": {
       "model_id": "56e908730eaf47e6b9c893e700cac63b"
      },
      "text/html": [
       "<div>\n",
       "<style scoped>\n",
       "    .dataframe tbody tr th:only-of-type {\n",
       "        vertical-align: middle;\n",
       "    }\n",
       "\n",
       "    .dataframe tbody tr th {\n",
       "        vertical-align: top;\n",
       "    }\n",
       "\n",
       "    .dataframe thead th {\n",
       "        text-align: right;\n",
       "    }\n",
       "</style>\n",
       "<table border=\"1\" class=\"dataframe\">\n",
       "  <thead>\n",
       "    <tr style=\"text-align: right;\">\n",
       "      <th></th>\n",
       "      <th>aon</th>\n",
       "      <th>daily_decr30</th>\n",
       "      <th>daily_decr90</th>\n",
       "      <th>rental30</th>\n",
       "      <th>rental90</th>\n",
       "      <th>last_rech_date_ma</th>\n",
       "      <th>last_rech_date_da</th>\n",
       "      <th>last_rech_amt_ma</th>\n",
       "      <th>cnt_ma_rech30</th>\n",
       "      <th>fr_ma_rech30</th>\n",
       "      <th>...</th>\n",
       "      <th>amnt_loans30</th>\n",
       "      <th>maxamnt_loans30</th>\n",
       "      <th>medianamnt_loans30</th>\n",
       "      <th>cnt_loans90</th>\n",
       "      <th>amnt_loans90</th>\n",
       "      <th>maxamnt_loans90</th>\n",
       "      <th>medianamnt_loans90</th>\n",
       "      <th>payback30</th>\n",
       "      <th>payback90</th>\n",
       "      <th>label</th>\n",
       "    </tr>\n",
       "  </thead>\n",
       "  <tbody>\n",
       "    <tr>\n",
       "      <td>0</td>\n",
       "      <td>0.040558</td>\n",
       "      <td>0.455545</td>\n",
       "      <td>0.457051</td>\n",
       "      <td>0.032824</td>\n",
       "      <td>0.038789</td>\n",
       "      <td>0.000298</td>\n",
       "      <td>0.0</td>\n",
       "      <td>0.229483</td>\n",
       "      <td>0.000298</td>\n",
       "      <td>0.003131</td>\n",
       "      <td>...</td>\n",
       "      <td>0.001789</td>\n",
       "      <td>0.000895</td>\n",
       "      <td>0.0</td>\n",
       "      <td>0.000298</td>\n",
       "      <td>0.001789</td>\n",
       "      <td>0.000895</td>\n",
       "      <td>0.0</td>\n",
       "      <td>0.004324</td>\n",
       "      <td>0.004324</td>\n",
       "      <td>0</td>\n",
       "    </tr>\n",
       "    <tr>\n",
       "      <td>1</td>\n",
       "      <td>0.032192</td>\n",
       "      <td>0.548083</td>\n",
       "      <td>0.548207</td>\n",
       "      <td>0.166896</td>\n",
       "      <td>0.166896</td>\n",
       "      <td>0.000904</td>\n",
       "      <td>0.0</td>\n",
       "      <td>0.261653</td>\n",
       "      <td>0.000045</td>\n",
       "      <td>0.000000</td>\n",
       "      <td>...</td>\n",
       "      <td>0.000543</td>\n",
       "      <td>0.000543</td>\n",
       "      <td>0.0</td>\n",
       "      <td>0.000045</td>\n",
       "      <td>0.000543</td>\n",
       "      <td>0.000543</td>\n",
       "      <td>0.0</td>\n",
       "      <td>0.000000</td>\n",
       "      <td>0.000000</td>\n",
       "      <td>1</td>\n",
       "    </tr>\n",
       "    <tr>\n",
       "      <td>2</td>\n",
       "      <td>0.127283</td>\n",
       "      <td>0.332602</td>\n",
       "      <td>0.332602</td>\n",
       "      <td>0.214152</td>\n",
       "      <td>0.214152</td>\n",
       "      <td>0.000714</td>\n",
       "      <td>0.0</td>\n",
       "      <td>0.366148</td>\n",
       "      <td>0.000238</td>\n",
       "      <td>0.000000</td>\n",
       "      <td>...</td>\n",
       "      <td>0.001427</td>\n",
       "      <td>0.001427</td>\n",
       "      <td>0.0</td>\n",
       "      <td>0.000238</td>\n",
       "      <td>0.001427</td>\n",
       "      <td>0.001427</td>\n",
       "      <td>0.0</td>\n",
       "      <td>0.000000</td>\n",
       "      <td>0.000000</td>\n",
       "      <td>1</td>\n",
       "    </tr>\n",
       "    <tr>\n",
       "      <td>3</td>\n",
       "      <td>0.143966</td>\n",
       "      <td>0.012681</td>\n",
       "      <td>0.012681</td>\n",
       "      <td>0.095233</td>\n",
       "      <td>0.095233</td>\n",
       "      <td>0.024492</td>\n",
       "      <td>0.0</td>\n",
       "      <td>0.565709</td>\n",
       "      <td>0.000000</td>\n",
       "      <td>0.000000</td>\n",
       "      <td>...</td>\n",
       "      <td>0.007168</td>\n",
       "      <td>0.003584</td>\n",
       "      <td>0.0</td>\n",
       "      <td>0.001195</td>\n",
       "      <td>0.007168</td>\n",
       "      <td>0.003584</td>\n",
       "      <td>0.0</td>\n",
       "      <td>0.000000</td>\n",
       "      <td>0.000000</td>\n",
       "      <td>1</td>\n",
       "    </tr>\n",
       "    <tr>\n",
       "      <td>4</td>\n",
       "      <td>0.030319</td>\n",
       "      <td>0.004822</td>\n",
       "      <td>0.004822</td>\n",
       "      <td>0.035182</td>\n",
       "      <td>0.035182</td>\n",
       "      <td>0.000128</td>\n",
       "      <td>0.0</td>\n",
       "      <td>0.073925</td>\n",
       "      <td>0.000224</td>\n",
       "      <td>0.000064</td>\n",
       "      <td>...</td>\n",
       "      <td>0.001345</td>\n",
       "      <td>0.000192</td>\n",
       "      <td>0.0</td>\n",
       "      <td>0.000224</td>\n",
       "      <td>0.001345</td>\n",
       "      <td>0.000192</td>\n",
       "      <td>0.0</td>\n",
       "      <td>0.000075</td>\n",
       "      <td>0.000075</td>\n",
       "      <td>1</td>\n",
       "    </tr>\n",
       "  </tbody>\n",
       "</table>\n",
       "<p>5 rows × 33 columns</p>\n",
       "</div>"
      ],
      "text/plain": [
       "        aon  daily_decr30  daily_decr90  rental30  rental90  \\\n",
       "0  0.040558      0.455545      0.457051  0.032824  0.038789   \n",
       "1  0.032192      0.548083      0.548207  0.166896  0.166896   \n",
       "2  0.127283      0.332602      0.332602  0.214152  0.214152   \n",
       "3  0.143966      0.012681      0.012681  0.095233  0.095233   \n",
       "4  0.030319      0.004822      0.004822  0.035182  0.035182   \n",
       "\n",
       "   last_rech_date_ma  last_rech_date_da  last_rech_amt_ma  cnt_ma_rech30  \\\n",
       "0           0.000298                0.0          0.229483       0.000298   \n",
       "1           0.000904                0.0          0.261653       0.000045   \n",
       "2           0.000714                0.0          0.366148       0.000238   \n",
       "3           0.024492                0.0          0.565709       0.000000   \n",
       "4           0.000128                0.0          0.073925       0.000224   \n",
       "\n",
       "   fr_ma_rech30  ...  amnt_loans30  maxamnt_loans30  medianamnt_loans30  \\\n",
       "0      0.003131  ...      0.001789         0.000895                 0.0   \n",
       "1      0.000000  ...      0.000543         0.000543                 0.0   \n",
       "2      0.000000  ...      0.001427         0.001427                 0.0   \n",
       "3      0.000000  ...      0.007168         0.003584                 0.0   \n",
       "4      0.000064  ...      0.001345         0.000192                 0.0   \n",
       "\n",
       "   cnt_loans90  amnt_loans90  maxamnt_loans90  medianamnt_loans90  payback30  \\\n",
       "0     0.000298      0.001789         0.000895                 0.0   0.004324   \n",
       "1     0.000045      0.000543         0.000543                 0.0   0.000000   \n",
       "2     0.000238      0.001427         0.001427                 0.0   0.000000   \n",
       "3     0.001195      0.007168         0.003584                 0.0   0.000000   \n",
       "4     0.000224      0.001345         0.000192                 0.0   0.000075   \n",
       "\n",
       "   payback90  label  \n",
       "0   0.004324      0  \n",
       "1   0.000000      1  \n",
       "2   0.000000      1  \n",
       "3   0.000000      1  \n",
       "4   0.000075      1  \n",
       "\n",
       "[5 rows x 33 columns]"
      ]
     },
     "metadata": {},
     "output_type": "display_data"
    }
   ],
   "source": [
    "#Concatinating both NUMERIC and CATEGORICAL variables\n",
    "data = pd.concat([data,data_label], axis=1)\n",
    "data.head(5)"
   ]
  },
  {
   "cell_type": "code",
   "execution_count": 26,
   "metadata": {},
   "outputs": [
    {
     "data": {
      "text/plain": [
       "<matplotlib.axes._subplots.AxesSubplot at 0x21851742ec8>"
      ]
     },
     "execution_count": 26,
     "metadata": {},
     "output_type": "execute_result"
    },
    {
     "data": {
      "image/png": "[encoded data removed]",
      "text/plain": [
       "<Figure size 432x288 with 1 Axes>"
      ]
     },
     "metadata": {
      "needs_background": "light"
     },
     "output_type": "display_data"
    }
   ],
   "source": [
    "data.aon.plot(kind='density')"
   ]
  },
  {
   "cell_type": "markdown",
   "metadata": {},
   "source": [
    "# ==>Feature Selection"
   ]
  },
  {
   "cell_type": "code",
   "execution_count": 27,
   "metadata": {},
   "outputs": [],
   "source": [
    "#Defining the Target and Predictor Variable\n",
    "X = data.drop(labels=['label'],axis=1)\n",
    "y = data.iloc[:,-1]"
   ]
  },
  {
   "cell_type": "code",
   "execution_count": 28,
   "metadata": {},
   "outputs": [
    {
     "data": {
      "application/vnd.jupyter.widget-view+json": {
       "model_id": "3c9ab487d5e5439a84dcc0cdf499438a"
      },
      "text/html": [
       "<div>\n",
       "<style scoped>\n",
       "    .dataframe tbody tr th:only-of-type {\n",
       "        vertical-align: middle;\n",
       "    }\n",
       "\n",
       "    .dataframe tbody tr th {\n",
       "        vertical-align: top;\n",
       "    }\n",
       "\n",
       "    .dataframe thead th {\n",
       "        text-align: right;\n",
       "    }\n",
       "</style>\n",
       "<table border=\"1\" class=\"dataframe\">\n",
       "  <thead>\n",
       "    <tr style=\"text-align: right;\">\n",
       "      <th></th>\n",
       "      <th>aon</th>\n",
       "      <th>daily_decr30</th>\n",
       "      <th>daily_decr90</th>\n",
       "      <th>rental30</th>\n",
       "      <th>rental90</th>\n",
       "      <th>last_rech_date_ma</th>\n",
       "      <th>last_rech_date_da</th>\n",
       "      <th>last_rech_amt_ma</th>\n",
       "      <th>cnt_ma_rech30</th>\n",
       "      <th>fr_ma_rech30</th>\n",
       "      <th>...</th>\n",
       "      <th>cnt_loans30</th>\n",
       "      <th>amnt_loans30</th>\n",
       "      <th>maxamnt_loans30</th>\n",
       "      <th>medianamnt_loans30</th>\n",
       "      <th>cnt_loans90</th>\n",
       "      <th>amnt_loans90</th>\n",
       "      <th>maxamnt_loans90</th>\n",
       "      <th>medianamnt_loans90</th>\n",
       "      <th>payback30</th>\n",
       "      <th>payback90</th>\n",
       "    </tr>\n",
       "  </thead>\n",
       "  <tbody>\n",
       "    <tr>\n",
       "      <td>0</td>\n",
       "      <td>0.040558</td>\n",
       "      <td>0.455545</td>\n",
       "      <td>0.457051</td>\n",
       "      <td>0.032824</td>\n",
       "      <td>0.038789</td>\n",
       "      <td>0.000298</td>\n",
       "      <td>0.000000</td>\n",
       "      <td>0.229483</td>\n",
       "      <td>0.000298</td>\n",
       "      <td>0.003131</td>\n",
       "      <td>...</td>\n",
       "      <td>0.000298</td>\n",
       "      <td>0.001789</td>\n",
       "      <td>0.000895</td>\n",
       "      <td>0.0</td>\n",
       "      <td>0.000298</td>\n",
       "      <td>0.001789</td>\n",
       "      <td>0.000895</td>\n",
       "      <td>0.0</td>\n",
       "      <td>0.004324</td>\n",
       "      <td>0.004324</td>\n",
       "    </tr>\n",
       "    <tr>\n",
       "      <td>1</td>\n",
       "      <td>0.032192</td>\n",
       "      <td>0.548083</td>\n",
       "      <td>0.548207</td>\n",
       "      <td>0.166896</td>\n",
       "      <td>0.166896</td>\n",
       "      <td>0.000904</td>\n",
       "      <td>0.000000</td>\n",
       "      <td>0.261653</td>\n",
       "      <td>0.000045</td>\n",
       "      <td>0.000000</td>\n",
       "      <td>...</td>\n",
       "      <td>0.000045</td>\n",
       "      <td>0.000543</td>\n",
       "      <td>0.000543</td>\n",
       "      <td>0.0</td>\n",
       "      <td>0.000045</td>\n",
       "      <td>0.000543</td>\n",
       "      <td>0.000543</td>\n",
       "      <td>0.0</td>\n",
       "      <td>0.000000</td>\n",
       "      <td>0.000000</td>\n",
       "    </tr>\n",
       "    <tr>\n",
       "      <td>2</td>\n",
       "      <td>0.127283</td>\n",
       "      <td>0.332602</td>\n",
       "      <td>0.332602</td>\n",
       "      <td>0.214152</td>\n",
       "      <td>0.214152</td>\n",
       "      <td>0.000714</td>\n",
       "      <td>0.000000</td>\n",
       "      <td>0.366148</td>\n",
       "      <td>0.000238</td>\n",
       "      <td>0.000000</td>\n",
       "      <td>...</td>\n",
       "      <td>0.000238</td>\n",
       "      <td>0.001427</td>\n",
       "      <td>0.001427</td>\n",
       "      <td>0.0</td>\n",
       "      <td>0.000238</td>\n",
       "      <td>0.001427</td>\n",
       "      <td>0.001427</td>\n",
       "      <td>0.0</td>\n",
       "      <td>0.000000</td>\n",
       "      <td>0.000000</td>\n",
       "    </tr>\n",
       "    <tr>\n",
       "      <td>3</td>\n",
       "      <td>0.143966</td>\n",
       "      <td>0.012681</td>\n",
       "      <td>0.012681</td>\n",
       "      <td>0.095233</td>\n",
       "      <td>0.095233</td>\n",
       "      <td>0.024492</td>\n",
       "      <td>0.000000</td>\n",
       "      <td>0.565709</td>\n",
       "      <td>0.000000</td>\n",
       "      <td>0.000000</td>\n",
       "      <td>...</td>\n",
       "      <td>0.001195</td>\n",
       "      <td>0.007168</td>\n",
       "      <td>0.003584</td>\n",
       "      <td>0.0</td>\n",
       "      <td>0.001195</td>\n",
       "      <td>0.007168</td>\n",
       "      <td>0.003584</td>\n",
       "      <td>0.0</td>\n",
       "      <td>0.000000</td>\n",
       "      <td>0.000000</td>\n",
       "    </tr>\n",
       "    <tr>\n",
       "      <td>4</td>\n",
       "      <td>0.030319</td>\n",
       "      <td>0.004822</td>\n",
       "      <td>0.004822</td>\n",
       "      <td>0.035182</td>\n",
       "      <td>0.035182</td>\n",
       "      <td>0.000128</td>\n",
       "      <td>0.000000</td>\n",
       "      <td>0.073925</td>\n",
       "      <td>0.000224</td>\n",
       "      <td>0.000064</td>\n",
       "      <td>...</td>\n",
       "      <td>0.000224</td>\n",
       "      <td>0.001345</td>\n",
       "      <td>0.000192</td>\n",
       "      <td>0.0</td>\n",
       "      <td>0.000224</td>\n",
       "      <td>0.001345</td>\n",
       "      <td>0.000192</td>\n",
       "      <td>0.0</td>\n",
       "      <td>0.000075</td>\n",
       "      <td>0.000075</td>\n",
       "    </tr>\n",
       "    <tr>\n",
       "      <td>...</td>\n",
       "      <td>...</td>\n",
       "      <td>...</td>\n",
       "      <td>...</td>\n",
       "      <td>...</td>\n",
       "      <td>...</td>\n",
       "      <td>...</td>\n",
       "      <td>...</td>\n",
       "      <td>...</td>\n",
       "      <td>...</td>\n",
       "      <td>...</td>\n",
       "      <td>...</td>\n",
       "      <td>...</td>\n",
       "      <td>...</td>\n",
       "      <td>...</td>\n",
       "      <td>...</td>\n",
       "      <td>...</td>\n",
       "      <td>...</td>\n",
       "      <td>...</td>\n",
       "      <td>...</td>\n",
       "      <td>...</td>\n",
       "      <td>...</td>\n",
       "    </tr>\n",
       "    <tr>\n",
       "      <td>209588</td>\n",
       "      <td>0.025266</td>\n",
       "      <td>0.009498</td>\n",
       "      <td>0.009498</td>\n",
       "      <td>0.068118</td>\n",
       "      <td>0.068118</td>\n",
       "      <td>0.000063</td>\n",
       "      <td>0.000000</td>\n",
       "      <td>0.253163</td>\n",
       "      <td>0.000188</td>\n",
       "      <td>0.000125</td>\n",
       "      <td>...</td>\n",
       "      <td>0.000125</td>\n",
       "      <td>0.000750</td>\n",
       "      <td>0.000375</td>\n",
       "      <td>0.0</td>\n",
       "      <td>0.000125</td>\n",
       "      <td>0.000750</td>\n",
       "      <td>0.000375</td>\n",
       "      <td>0.0</td>\n",
       "      <td>0.000063</td>\n",
       "      <td>0.000063</td>\n",
       "    </tr>\n",
       "    <tr>\n",
       "      <td>209589</td>\n",
       "      <td>0.182149</td>\n",
       "      <td>0.006258</td>\n",
       "      <td>0.006258</td>\n",
       "      <td>0.292856</td>\n",
       "      <td>0.292856</td>\n",
       "      <td>0.000678</td>\n",
       "      <td>0.000000</td>\n",
       "      <td>0.130978</td>\n",
       "      <td>0.000678</td>\n",
       "      <td>0.000169</td>\n",
       "      <td>...</td>\n",
       "      <td>0.000508</td>\n",
       "      <td>0.003050</td>\n",
       "      <td>0.001017</td>\n",
       "      <td>0.0</td>\n",
       "      <td>0.000508</td>\n",
       "      <td>0.003050</td>\n",
       "      <td>0.001017</td>\n",
       "      <td>0.0</td>\n",
       "      <td>0.000169</td>\n",
       "      <td>0.000169</td>\n",
       "    </tr>\n",
       "    <tr>\n",
       "      <td>209590</td>\n",
       "      <td>0.035028</td>\n",
       "      <td>0.409517</td>\n",
       "      <td>0.411634</td>\n",
       "      <td>0.202693</td>\n",
       "      <td>0.307513</td>\n",
       "      <td>0.000104</td>\n",
       "      <td>0.000000</td>\n",
       "      <td>0.053216</td>\n",
       "      <td>0.000173</td>\n",
       "      <td>0.000277</td>\n",
       "      <td>...</td>\n",
       "      <td>0.000138</td>\n",
       "      <td>0.001452</td>\n",
       "      <td>0.000415</td>\n",
       "      <td>0.0</td>\n",
       "      <td>0.000207</td>\n",
       "      <td>0.001867</td>\n",
       "      <td>0.000415</td>\n",
       "      <td>0.0</td>\n",
       "      <td>0.000138</td>\n",
       "      <td>0.000133</td>\n",
       "    </tr>\n",
       "    <tr>\n",
       "      <td>209591</td>\n",
       "      <td>0.061433</td>\n",
       "      <td>0.442953</td>\n",
       "      <td>0.446008</td>\n",
       "      <td>0.014607</td>\n",
       "      <td>0.034923</td>\n",
       "      <td>0.000071</td>\n",
       "      <td>0.001348</td>\n",
       "      <td>0.027418</td>\n",
       "      <td>0.000177</td>\n",
       "      <td>0.000142</td>\n",
       "      <td>...</td>\n",
       "      <td>0.000071</td>\n",
       "      <td>0.000638</td>\n",
       "      <td>0.000426</td>\n",
       "      <td>0.0</td>\n",
       "      <td>0.000106</td>\n",
       "      <td>0.000851</td>\n",
       "      <td>0.000426</td>\n",
       "      <td>0.0</td>\n",
       "      <td>0.000000</td>\n",
       "      <td>0.000372</td>\n",
       "    </tr>\n",
       "    <tr>\n",
       "      <td>209592</td>\n",
       "      <td>0.068327</td>\n",
       "      <td>0.194021</td>\n",
       "      <td>0.195985</td>\n",
       "      <td>0.020914</td>\n",
       "      <td>0.027279</td>\n",
       "      <td>0.000562</td>\n",
       "      <td>0.000000</td>\n",
       "      <td>0.325258</td>\n",
       "      <td>0.000086</td>\n",
       "      <td>0.000043</td>\n",
       "      <td>...</td>\n",
       "      <td>0.000086</td>\n",
       "      <td>0.000778</td>\n",
       "      <td>0.000519</td>\n",
       "      <td>0.0</td>\n",
       "      <td>0.000086</td>\n",
       "      <td>0.000778</td>\n",
       "      <td>0.000519</td>\n",
       "      <td>0.0</td>\n",
       "      <td>0.000000</td>\n",
       "      <td>0.000000</td>\n",
       "    </tr>\n",
       "  </tbody>\n",
       "</table>\n",
       "<p>209593 rows × 32 columns</p>\n",
       "</div>"
      ],
      "text/plain": [
       "             aon  daily_decr30  daily_decr90  rental30  rental90  \\\n",
       "0       0.040558      0.455545      0.457051  0.032824  0.038789   \n",
       "1       0.032192      0.548083      0.548207  0.166896  0.166896   \n",
       "2       0.127283      0.332602      0.332602  0.214152  0.214152   \n",
       "3       0.143966      0.012681      0.012681  0.095233  0.095233   \n",
       "4       0.030319      0.004822      0.004822  0.035182  0.035182   \n",
       "...          ...           ...           ...       ...       ...   \n",
       "209588  0.025266      0.009498      0.009498  0.068118  0.068118   \n",
       "209589  0.182149      0.006258      0.006258  0.292856  0.292856   \n",
       "209590  0.035028      0.409517      0.411634  0.202693  0.307513   \n",
       "209591  0.061433      0.442953      0.446008  0.014607  0.034923   \n",
       "209592  0.068327      0.194021      0.195985  0.020914  0.027279   \n",
       "\n",
       "        last_rech_date_ma  last_rech_date_da  last_rech_amt_ma  cnt_ma_rech30  \\\n",
       "0                0.000298           0.000000          0.229483       0.000298   \n",
       "1                0.000904           0.000000          0.261653       0.000045   \n",
       "2                0.000714           0.000000          0.366148       0.000238   \n",
       "3                0.024492           0.000000          0.565709       0.000000   \n",
       "4                0.000128           0.000000          0.073925       0.000224   \n",
       "...                   ...                ...               ...            ...   \n",
       "209588           0.000063           0.000000          0.253163       0.000188   \n",
       "209589           0.000678           0.000000          0.130978       0.000678   \n",
       "209590           0.000104           0.000000          0.053216       0.000173   \n",
       "209591           0.000071           0.001348          0.027418       0.000177   \n",
       "209592           0.000562           0.000000          0.325258       0.000086   \n",
       "\n",
       "        fr_ma_rech30  ...  cnt_loans30  amnt_loans30  maxamnt_loans30  \\\n",
       "0           0.003131  ...     0.000298      0.001789         0.000895   \n",
       "1           0.000000  ...     0.000045      0.000543         0.000543   \n",
       "2           0.000000  ...     0.000238      0.001427         0.001427   \n",
       "3           0.000000  ...     0.001195      0.007168         0.003584   \n",
       "4           0.000064  ...     0.000224      0.001345         0.000192   \n",
       "...              ...  ...          ...           ...              ...   \n",
       "209588      0.000125  ...     0.000125      0.000750         0.000375   \n",
       "209589      0.000169  ...     0.000508      0.003050         0.001017   \n",
       "209590      0.000277  ...     0.000138      0.001452         0.000415   \n",
       "209591      0.000142  ...     0.000071      0.000638         0.000426   \n",
       "209592      0.000043  ...     0.000086      0.000778         0.000519   \n",
       "\n",
       "        medianamnt_loans30  cnt_loans90  amnt_loans90  maxamnt_loans90  \\\n",
       "0                      0.0     0.000298      0.001789         0.000895   \n",
       "1                      0.0     0.000045      0.000543         0.000543   \n",
       "2                      0.0     0.000238      0.001427         0.001427   \n",
       "3                      0.0     0.001195      0.007168         0.003584   \n",
       "4                      0.0     0.000224      0.001345         0.000192   \n",
       "...                    ...          ...           ...              ...   \n",
       "209588                 0.0     0.000125      0.000750         0.000375   \n",
       "209589                 0.0     0.000508      0.003050         0.001017   \n",
       "209590                 0.0     0.000207      0.001867         0.000415   \n",
       "209591                 0.0     0.000106      0.000851         0.000426   \n",
       "209592                 0.0     0.000086      0.000778         0.000519   \n",
       "\n",
       "        medianamnt_loans90  payback30  payback90  \n",
       "0                      0.0   0.004324   0.004324  \n",
       "1                      0.0   0.000000   0.000000  \n",
       "2                      0.0   0.000000   0.000000  \n",
       "3                      0.0   0.000000   0.000000  \n",
       "4                      0.0   0.000075   0.000075  \n",
       "...                    ...        ...        ...  \n",
       "209588                 0.0   0.000063   0.000063  \n",
       "209589                 0.0   0.000169   0.000169  \n",
       "209590                 0.0   0.000138   0.000133  \n",
       "209591                 0.0   0.000000   0.000372  \n",
       "209592                 0.0   0.000000   0.000000  \n",
       "\n",
       "[209593 rows x 32 columns]"
      ]
     },
     "metadata": {},
     "output_type": "display_data"
    }
   ],
   "source": [
    "X"
   ]
  },
  {
   "cell_type": "code",
   "execution_count": 29,
   "metadata": {},
   "outputs": [
    {
     "data": {
      "text/plain": [
       "0         0\n",
       "1         1\n",
       "2         1\n",
       "3         1\n",
       "4         1\n",
       "         ..\n",
       "209588    1\n",
       "209589    1\n",
       "209590    1\n",
       "209591    1\n",
       "209592    1\n",
       "Name: label, Length: 209593, dtype: int64"
      ]
     },
     "execution_count": 29,
     "metadata": {},
     "output_type": "execute_result"
    }
   ],
   "source": [
    "y"
   ]
  },
  {
   "cell_type": "code",
   "execution_count": 30,
   "metadata": {},
   "outputs": [
    {
     "data": {
      "text/plain": [
       "[('aon', 0.0423770730248459),\n",
       " ('daily_decr30', 0.09844247352190877),\n",
       " ('daily_decr90', 0.11675035581480554),\n",
       " ('rental30', 0.054569185795514626),\n",
       " ('rental90', 0.052466789122048205),\n",
       " ('last_rech_date_ma', 0.04463743481840355),\n",
       " ('last_rech_date_da', 0.0018389979013127176),\n",
       " ('last_rech_amt_ma', 0.02456605454948808),\n",
       " ('cnt_ma_rech30', 0.0522000361577711),\n",
       " ('fr_ma_rech30', 0.017065022657445455),\n",
       " ('sumamnt_ma_rech30', 0.032563162437489676),\n",
       " ('medianamnt_ma_rech30', 0.03303550159953234),\n",
       " ('medianmarechprebal30', 0.03387055787271504),\n",
       " ('cnt_ma_rech90', 0.021749421174071863),\n",
       " ('fr_ma_rech90', 0.01894285847079048),\n",
       " ('sumamnt_ma_rech90', 0.03562189836269967),\n",
       " ('medianamnt_ma_rech90', 0.025215411877555736),\n",
       " ('medianmarechprebal90', 0.038332813207945786),\n",
       " ('cnt_da_rech30', 0.0015102484478391445),\n",
       " ('fr_da_rech30', 0.0006519824163612363),\n",
       " ('cnt_da_rech90', 0.002008838346464164),\n",
       " ('fr_da_rech90', 0.0006390968548815245),\n",
       " ('cnt_loans30', 0.03297614156937389),\n",
       " ('amnt_loans30', 0.03248308369813726),\n",
       " ('maxamnt_loans30', 0.03732385257116471),\n",
       " ('medianamnt_loans30', 0.004366591459427256),\n",
       " ('cnt_loans90', 0.033021433799090345),\n",
       " ('amnt_loans90', 0.03306623848947079),\n",
       " ('maxamnt_loans90', 0.036316788834147434),\n",
       " ('medianamnt_loans90', 0.004636415754304229),\n",
       " ('payback30', 0.014766572778333549),\n",
       " ('payback90', 0.021987666614660076)]"
      ]
     },
     "execution_count": 30,
     "metadata": {},
     "output_type": "execute_result"
    }
   ],
   "source": [
    "from sklearn.ensemble import RandomForestClassifier  as rf\n",
    "model=rf()\n",
    "fit = model.fit(X,y)\n",
    "score=model.feature_importances_\n",
    "answer=list(zip(data.columns,score))\n",
    "answer"
   ]
  },
  {
   "cell_type": "code",
   "execution_count": 31,
   "metadata": {},
   "outputs": [
    {
     "data": {
      "text/plain": [
       "[('daily_decr90', 0.11675035581480554),\n",
       " ('daily_decr30', 0.09844247352190877),\n",
       " ('rental30', 0.054569185795514626),\n",
       " ('rental90', 0.052466789122048205),\n",
       " ('cnt_ma_rech30', 0.0522000361577711),\n",
       " ('last_rech_date_ma', 0.04463743481840355),\n",
       " ('aon', 0.0423770730248459),\n",
       " ('medianmarechprebal90', 0.038332813207945786),\n",
       " ('maxamnt_loans30', 0.03732385257116471),\n",
       " ('maxamnt_loans90', 0.036316788834147434),\n",
       " ('sumamnt_ma_rech90', 0.03562189836269967),\n",
       " ('medianmarechprebal30', 0.03387055787271504),\n",
       " ('amnt_loans90', 0.03306623848947079),\n",
       " ('medianamnt_ma_rech30', 0.03303550159953234),\n",
       " ('cnt_loans90', 0.033021433799090345),\n",
       " ('cnt_loans30', 0.03297614156937389),\n",
       " ('sumamnt_ma_rech30', 0.032563162437489676),\n",
       " ('amnt_loans30', 0.03248308369813726),\n",
       " ('medianamnt_ma_rech90', 0.025215411877555736),\n",
       " ('last_rech_amt_ma', 0.02456605454948808),\n",
       " ('payback90', 0.021987666614660076),\n",
       " ('cnt_ma_rech90', 0.021749421174071863),\n",
       " ('fr_ma_rech90', 0.01894285847079048),\n",
       " ('fr_ma_rech30', 0.017065022657445455),\n",
       " ('payback30', 0.014766572778333549),\n",
       " ('medianamnt_loans90', 0.004636415754304229),\n",
       " ('medianamnt_loans30', 0.004366591459427256),\n",
       " ('cnt_da_rech90', 0.002008838346464164),\n",
       " ('last_rech_date_da', 0.0018389979013127176),\n",
       " ('cnt_da_rech30', 0.0015102484478391445),\n",
       " ('fr_da_rech30', 0.0006519824163612363),\n",
       " ('fr_da_rech90', 0.0006390968548815245)]"
      ]
     },
     "execution_count": 31,
     "metadata": {},
     "output_type": "execute_result"
    }
   ],
   "source": [
    "from operator import itemgetter\n",
    "sorted(answer,key=itemgetter(1),reverse=True)"
   ]
  },
  {
   "cell_type": "code",
   "execution_count": 32,
   "metadata": {},
   "outputs": [
    {
     "name": "stdout",
     "output_type": "stream",
     "text": [
      "25\n",
      "[ True  True  True  True  True  True False  True  True  True  True  True\n",
      "  True  True  True  True  True  True False False False False  True  True\n",
      "  True False  True  True  True False  True  True]\n",
      "[1 1 1 1 1 1 5 1 1 1 1 1 1 1 1 1 1 1 6 7 4 8 1 1 1 3 1 1 1 2 1 1]\n"
     ]
    }
   ],
   "source": [
    "#Feature ranking with recursive feature elimination.\n",
    "from sklearn.feature_selection import RFE\n",
    "\n",
    "rfe=RFE(model,25) #Selecting top 25 important features\n",
    "fit=rfe.fit(X,y)\n",
    "results=fit.transform(X)\n",
    "print(fit.n_features_)\n",
    "print(fit.support_)\n",
    "print(fit.ranking_)"
   ]
  },
  {
   "cell_type": "code",
   "execution_count": 33,
   "metadata": {},
   "outputs": [],
   "source": [
    "#Selecting the best ranked features (fit.support_ = True)\n",
    "j=0\n",
    "names=[]\n",
    "for i in fit.support_:\n",
    "    if i==True:\n",
    "        names.append(headnames[j])\n",
    "    j+=1"
   ]
  },
  {
   "cell_type": "code",
   "execution_count": 34,
   "metadata": {},
   "outputs": [
    {
     "data": {
      "text/plain": [
       "['aon',\n",
       " 'daily_decr30',\n",
       " 'daily_decr90',\n",
       " 'rental30',\n",
       " 'rental90',\n",
       " 'last_rech_date_ma',\n",
       " 'last_rech_amt_ma',\n",
       " 'cnt_ma_rech30',\n",
       " 'fr_ma_rech30',\n",
       " 'sumamnt_ma_rech30',\n",
       " 'medianamnt_ma_rech30',\n",
       " 'medianmarechprebal30',\n",
       " 'cnt_ma_rech90',\n",
       " 'fr_ma_rech90',\n",
       " 'sumamnt_ma_rech90',\n",
       " 'medianamnt_ma_rech90',\n",
       " 'medianmarechprebal90',\n",
       " 'cnt_loans30',\n",
       " 'amnt_loans30',\n",
       " 'maxamnt_loans30',\n",
       " 'cnt_loans90',\n",
       " 'amnt_loans90',\n",
       " 'maxamnt_loans90',\n",
       " 'payback30',\n",
       " 'payback90']"
      ]
     },
     "execution_count": 34,
     "metadata": {},
     "output_type": "execute_result"
    }
   ],
   "source": [
    "names"
   ]
  },
  {
   "cell_type": "code",
   "execution_count": 35,
   "metadata": {},
   "outputs": [],
   "source": [
    "X=pd.DataFrame()\n",
    "for i in names:\n",
    "    X[i]=data[i]"
   ]
  },
  {
   "cell_type": "code",
   "execution_count": 36,
   "metadata": {},
   "outputs": [
    {
     "data": {
      "application/vnd.jupyter.widget-view+json": {
       "model_id": "68881111893a4b2fae38f1db45a70c6f"
      },
      "text/html": [
       "<div>\n",
       "<style scoped>\n",
       "    .dataframe tbody tr th:only-of-type {\n",
       "        vertical-align: middle;\n",
       "    }\n",
       "\n",
       "    .dataframe tbody tr th {\n",
       "        vertical-align: top;\n",
       "    }\n",
       "\n",
       "    .dataframe thead th {\n",
       "        text-align: right;\n",
       "    }\n",
       "</style>\n",
       "<table border=\"1\" class=\"dataframe\">\n",
       "  <thead>\n",
       "    <tr style=\"text-align: right;\">\n",
       "      <th></th>\n",
       "      <th>aon</th>\n",
       "      <th>daily_decr30</th>\n",
       "      <th>daily_decr90</th>\n",
       "      <th>rental30</th>\n",
       "      <th>rental90</th>\n",
       "      <th>last_rech_date_ma</th>\n",
       "      <th>last_rech_amt_ma</th>\n",
       "      <th>cnt_ma_rech30</th>\n",
       "      <th>fr_ma_rech30</th>\n",
       "      <th>sumamnt_ma_rech30</th>\n",
       "      <th>...</th>\n",
       "      <th>medianamnt_ma_rech90</th>\n",
       "      <th>medianmarechprebal90</th>\n",
       "      <th>cnt_loans30</th>\n",
       "      <th>amnt_loans30</th>\n",
       "      <th>maxamnt_loans30</th>\n",
       "      <th>cnt_loans90</th>\n",
       "      <th>amnt_loans90</th>\n",
       "      <th>maxamnt_loans90</th>\n",
       "      <th>payback30</th>\n",
       "      <th>payback90</th>\n",
       "    </tr>\n",
       "  </thead>\n",
       "  <tbody>\n",
       "    <tr>\n",
       "      <td>0</td>\n",
       "      <td>0.040558</td>\n",
       "      <td>0.455545</td>\n",
       "      <td>0.457051</td>\n",
       "      <td>0.032824</td>\n",
       "      <td>0.038789</td>\n",
       "      <td>0.000298</td>\n",
       "      <td>0.229483</td>\n",
       "      <td>0.000298</td>\n",
       "      <td>0.003131</td>\n",
       "      <td>0.458967</td>\n",
       "      <td>...</td>\n",
       "      <td>0.229483</td>\n",
       "      <td>0.001118</td>\n",
       "      <td>0.000298</td>\n",
       "      <td>0.001789</td>\n",
       "      <td>0.000895</td>\n",
       "      <td>0.000298</td>\n",
       "      <td>0.001789</td>\n",
       "      <td>0.000895</td>\n",
       "      <td>0.004324</td>\n",
       "      <td>0.004324</td>\n",
       "    </tr>\n",
       "    <tr>\n",
       "      <td>1</td>\n",
       "      <td>0.032192</td>\n",
       "      <td>0.548083</td>\n",
       "      <td>0.548207</td>\n",
       "      <td>0.166896</td>\n",
       "      <td>0.166896</td>\n",
       "      <td>0.000904</td>\n",
       "      <td>0.261653</td>\n",
       "      <td>0.000045</td>\n",
       "      <td>0.000000</td>\n",
       "      <td>0.261653</td>\n",
       "      <td>...</td>\n",
       "      <td>0.261653</td>\n",
       "      <td>0.002760</td>\n",
       "      <td>0.000045</td>\n",
       "      <td>0.000543</td>\n",
       "      <td>0.000543</td>\n",
       "      <td>0.000045</td>\n",
       "      <td>0.000543</td>\n",
       "      <td>0.000543</td>\n",
       "      <td>0.000000</td>\n",
       "      <td>0.000000</td>\n",
       "    </tr>\n",
       "    <tr>\n",
       "      <td>2</td>\n",
       "      <td>0.127283</td>\n",
       "      <td>0.332602</td>\n",
       "      <td>0.332602</td>\n",
       "      <td>0.214152</td>\n",
       "      <td>0.214152</td>\n",
       "      <td>0.000714</td>\n",
       "      <td>0.366148</td>\n",
       "      <td>0.000238</td>\n",
       "      <td>0.000000</td>\n",
       "      <td>0.366148</td>\n",
       "      <td>...</td>\n",
       "      <td>0.366148</td>\n",
       "      <td>0.015778</td>\n",
       "      <td>0.000238</td>\n",
       "      <td>0.001427</td>\n",
       "      <td>0.001427</td>\n",
       "      <td>0.000238</td>\n",
       "      <td>0.001427</td>\n",
       "      <td>0.001427</td>\n",
       "      <td>0.000000</td>\n",
       "      <td>0.000000</td>\n",
       "    </tr>\n",
       "    <tr>\n",
       "      <td>4</td>\n",
       "      <td>0.030319</td>\n",
       "      <td>0.004822</td>\n",
       "      <td>0.004822</td>\n",
       "      <td>0.035182</td>\n",
       "      <td>0.035182</td>\n",
       "      <td>0.000128</td>\n",
       "      <td>0.073925</td>\n",
       "      <td>0.000224</td>\n",
       "      <td>0.000064</td>\n",
       "      <td>0.641247</td>\n",
       "      <td>...</td>\n",
       "      <td>0.092462</td>\n",
       "      <td>0.001121</td>\n",
       "      <td>0.000224</td>\n",
       "      <td>0.001345</td>\n",
       "      <td>0.000192</td>\n",
       "      <td>0.000224</td>\n",
       "      <td>0.001345</td>\n",
       "      <td>0.000192</td>\n",
       "      <td>0.000075</td>\n",
       "      <td>0.000075</td>\n",
       "    </tr>\n",
       "    <tr>\n",
       "      <td>5</td>\n",
       "      <td>0.040807</td>\n",
       "      <td>0.162178</td>\n",
       "      <td>0.162472</td>\n",
       "      <td>0.026448</td>\n",
       "      <td>0.027310</td>\n",
       "      <td>0.000144</td>\n",
       "      <td>0.110568</td>\n",
       "      <td>0.000287</td>\n",
       "      <td>0.000718</td>\n",
       "      <td>0.442271</td>\n",
       "      <td>...</td>\n",
       "      <td>0.110568</td>\n",
       "      <td>0.004016</td>\n",
       "      <td>0.000216</td>\n",
       "      <td>0.001293</td>\n",
       "      <td>0.000431</td>\n",
       "      <td>0.000216</td>\n",
       "      <td>0.001293</td>\n",
       "      <td>0.000431</td>\n",
       "      <td>0.000790</td>\n",
       "      <td>0.000599</td>\n",
       "    </tr>\n",
       "    <tr>\n",
       "      <td>...</td>\n",
       "      <td>...</td>\n",
       "      <td>...</td>\n",
       "      <td>...</td>\n",
       "      <td>...</td>\n",
       "      <td>...</td>\n",
       "      <td>...</td>\n",
       "      <td>...</td>\n",
       "      <td>...</td>\n",
       "      <td>...</td>\n",
       "      <td>...</td>\n",
       "      <td>...</td>\n",
       "      <td>...</td>\n",
       "      <td>...</td>\n",
       "      <td>...</td>\n",
       "      <td>...</td>\n",
       "      <td>...</td>\n",
       "      <td>...</td>\n",
       "      <td>...</td>\n",
       "      <td>...</td>\n",
       "      <td>...</td>\n",
       "      <td>...</td>\n",
       "    </tr>\n",
       "    <tr>\n",
       "      <td>209588</td>\n",
       "      <td>0.025266</td>\n",
       "      <td>0.009498</td>\n",
       "      <td>0.009498</td>\n",
       "      <td>0.068118</td>\n",
       "      <td>0.068118</td>\n",
       "      <td>0.000063</td>\n",
       "      <td>0.253163</td>\n",
       "      <td>0.000188</td>\n",
       "      <td>0.000125</td>\n",
       "      <td>0.650668</td>\n",
       "      <td>...</td>\n",
       "      <td>0.198753</td>\n",
       "      <td>0.005742</td>\n",
       "      <td>0.000125</td>\n",
       "      <td>0.000750</td>\n",
       "      <td>0.000375</td>\n",
       "      <td>0.000125</td>\n",
       "      <td>0.000750</td>\n",
       "      <td>0.000375</td>\n",
       "      <td>0.000063</td>\n",
       "      <td>0.000063</td>\n",
       "    </tr>\n",
       "    <tr>\n",
       "      <td>209589</td>\n",
       "      <td>0.182149</td>\n",
       "      <td>0.006258</td>\n",
       "      <td>0.006258</td>\n",
       "      <td>0.292856</td>\n",
       "      <td>0.292856</td>\n",
       "      <td>0.000678</td>\n",
       "      <td>0.130978</td>\n",
       "      <td>0.000678</td>\n",
       "      <td>0.000169</td>\n",
       "      <td>0.523913</td>\n",
       "      <td>...</td>\n",
       "      <td>0.130978</td>\n",
       "      <td>0.018944</td>\n",
       "      <td>0.000508</td>\n",
       "      <td>0.003050</td>\n",
       "      <td>0.001017</td>\n",
       "      <td>0.000508</td>\n",
       "      <td>0.003050</td>\n",
       "      <td>0.001017</td>\n",
       "      <td>0.000169</td>\n",
       "      <td>0.000169</td>\n",
       "    </tr>\n",
       "    <tr>\n",
       "      <td>209590</td>\n",
       "      <td>0.035028</td>\n",
       "      <td>0.409517</td>\n",
       "      <td>0.411634</td>\n",
       "      <td>0.202693</td>\n",
       "      <td>0.307513</td>\n",
       "      <td>0.000104</td>\n",
       "      <td>0.053216</td>\n",
       "      <td>0.000173</td>\n",
       "      <td>0.000277</td>\n",
       "      <td>0.322755</td>\n",
       "      <td>...</td>\n",
       "      <td>0.053216</td>\n",
       "      <td>0.001630</td>\n",
       "      <td>0.000138</td>\n",
       "      <td>0.001452</td>\n",
       "      <td>0.000415</td>\n",
       "      <td>0.000207</td>\n",
       "      <td>0.001867</td>\n",
       "      <td>0.000415</td>\n",
       "      <td>0.000138</td>\n",
       "      <td>0.000133</td>\n",
       "    </tr>\n",
       "    <tr>\n",
       "      <td>209591</td>\n",
       "      <td>0.061433</td>\n",
       "      <td>0.442953</td>\n",
       "      <td>0.446008</td>\n",
       "      <td>0.014607</td>\n",
       "      <td>0.034923</td>\n",
       "      <td>0.000071</td>\n",
       "      <td>0.027418</td>\n",
       "      <td>0.000177</td>\n",
       "      <td>0.000142</td>\n",
       "      <td>0.431098</td>\n",
       "      <td>...</td>\n",
       "      <td>0.085499</td>\n",
       "      <td>0.003547</td>\n",
       "      <td>0.000071</td>\n",
       "      <td>0.000638</td>\n",
       "      <td>0.000426</td>\n",
       "      <td>0.000106</td>\n",
       "      <td>0.000851</td>\n",
       "      <td>0.000426</td>\n",
       "      <td>0.000000</td>\n",
       "      <td>0.000372</td>\n",
       "    </tr>\n",
       "    <tr>\n",
       "      <td>209592</td>\n",
       "      <td>0.068327</td>\n",
       "      <td>0.194021</td>\n",
       "      <td>0.195985</td>\n",
       "      <td>0.020914</td>\n",
       "      <td>0.027279</td>\n",
       "      <td>0.000562</td>\n",
       "      <td>0.325258</td>\n",
       "      <td>0.000086</td>\n",
       "      <td>0.000043</td>\n",
       "      <td>0.391770</td>\n",
       "      <td>...</td>\n",
       "      <td>0.325258</td>\n",
       "      <td>0.016950</td>\n",
       "      <td>0.000086</td>\n",
       "      <td>0.000778</td>\n",
       "      <td>0.000519</td>\n",
       "      <td>0.000086</td>\n",
       "      <td>0.000778</td>\n",
       "      <td>0.000519</td>\n",
       "      <td>0.000000</td>\n",
       "      <td>0.000000</td>\n",
       "    </tr>\n",
       "  </tbody>\n",
       "</table>\n",
       "<p>177085 rows × 25 columns</p>\n",
       "</div>"
      ],
      "text/plain": [
       "             aon  daily_decr30  daily_decr90  rental30  rental90  \\\n",
       "0       0.040558      0.455545      0.457051  0.032824  0.038789   \n",
       "1       0.032192      0.548083      0.548207  0.166896  0.166896   \n",
       "2       0.127283      0.332602      0.332602  0.214152  0.214152   \n",
       "4       0.030319      0.004822      0.004822  0.035182  0.035182   \n",
       "5       0.040807      0.162178      0.162472  0.026448  0.027310   \n",
       "...          ...           ...           ...       ...       ...   \n",
       "209588  0.025266      0.009498      0.009498  0.068118  0.068118   \n",
       "209589  0.182149      0.006258      0.006258  0.292856  0.292856   \n",
       "209590  0.035028      0.409517      0.411634  0.202693  0.307513   \n",
       "209591  0.061433      0.442953      0.446008  0.014607  0.034923   \n",
       "209592  0.068327      0.194021      0.195985  0.020914  0.027279   \n",
       "\n",
       "        last_rech_date_ma  last_rech_amt_ma  cnt_ma_rech30  fr_ma_rech30  \\\n",
       "0                0.000298          0.229483       0.000298      0.003131   \n",
       "1                0.000904          0.261653       0.000045      0.000000   \n",
       "2                0.000714          0.366148       0.000238      0.000000   \n",
       "4                0.000128          0.073925       0.000224      0.000064   \n",
       "5                0.000144          0.110568       0.000287      0.000718   \n",
       "...                   ...               ...            ...           ...   \n",
       "209588           0.000063          0.253163       0.000188      0.000125   \n",
       "209589           0.000678          0.130978       0.000678      0.000169   \n",
       "209590           0.000104          0.053216       0.000173      0.000277   \n",
       "209591           0.000071          0.027418       0.000177      0.000142   \n",
       "209592           0.000562          0.325258       0.000086      0.000043   \n",
       "\n",
       "        sumamnt_ma_rech30  ...  medianamnt_ma_rech90  medianmarechprebal90  \\\n",
       "0                0.458967  ...              0.229483              0.001118   \n",
       "1                0.261653  ...              0.261653              0.002760   \n",
       "2                0.366148  ...              0.366148              0.015778   \n",
       "4                0.641247  ...              0.092462              0.001121   \n",
       "5                0.442271  ...              0.110568              0.004016   \n",
       "...                   ...  ...                   ...                   ...   \n",
       "209588           0.650668  ...              0.198753              0.005742   \n",
       "209589           0.523913  ...              0.130978              0.018944   \n",
       "209590           0.322755  ...              0.053216              0.001630   \n",
       "209591           0.431098  ...              0.085499              0.003547   \n",
       "209592           0.391770  ...              0.325258              0.016950   \n",
       "\n",
       "        cnt_loans30  amnt_loans30  maxamnt_loans30  cnt_loans90  amnt_loans90  \\\n",
       "0          0.000298      0.001789         0.000895     0.000298      0.001789   \n",
       "1          0.000045      0.000543         0.000543     0.000045      0.000543   \n",
       "2          0.000238      0.001427         0.001427     0.000238      0.001427   \n",
       "4          0.000224      0.001345         0.000192     0.000224      0.001345   \n",
       "5          0.000216      0.001293         0.000431     0.000216      0.001293   \n",
       "...             ...           ...              ...          ...           ...   \n",
       "209588     0.000125      0.000750         0.000375     0.000125      0.000750   \n",
       "209589     0.000508      0.003050         0.001017     0.000508      0.003050   \n",
       "209590     0.000138      0.001452         0.000415     0.000207      0.001867   \n",
       "209591     0.000071      0.000638         0.000426     0.000106      0.000851   \n",
       "209592     0.000086      0.000778         0.000519     0.000086      0.000778   \n",
       "\n",
       "        maxamnt_loans90  payback30  payback90  \n",
       "0              0.000895   0.004324   0.004324  \n",
       "1              0.000543   0.000000   0.000000  \n",
       "2              0.001427   0.000000   0.000000  \n",
       "4              0.000192   0.000075   0.000075  \n",
       "5              0.000431   0.000790   0.000599  \n",
       "...                 ...        ...        ...  \n",
       "209588         0.000375   0.000063   0.000063  \n",
       "209589         0.001017   0.000169   0.000169  \n",
       "209590         0.000415   0.000138   0.000133  \n",
       "209591         0.000426   0.000000   0.000372  \n",
       "209592         0.000519   0.000000   0.000000  \n",
       "\n",
       "[177085 rows x 25 columns]"
      ]
     },
     "metadata": {},
     "output_type": "display_data"
    }
   ],
   "source": [
    "\n",
    "from scipy import stats\n",
    "X[(np.abs(stats.zscore(X))<3).all(axis=1)]"
   ]
  },
  {
   "cell_type": "code",
   "execution_count": 37,
   "metadata": {},
   "outputs": [
    {
     "data": {
      "text/html": [
       "        <script type=\"text/javascript\">\n",
       "        window.PlotlyConfig = {MathJaxConfig: 'local'};\n",
       "        if (window.MathJax) {MathJax.Hub.Config({SVG: {font: \"STIX-Web\"}});}\n",
       "        if (typeof require !== 'undefined') {\n",
       "        require.undef(\"plotly\");\n",
       "        requirejs.config({\n",
       "            paths: {\n",
       "                'plotly': ['https://cdn.plot.ly/plotly-latest.min']\n",
       "            }\n",
       "        });\n",
       "        require(['plotly'], function(Plotly) {\n",
       "            window._Plotly = Plotly;\n",
       "        });\n",
       "        }\n",
       "        </script>\n",
       "        "
      ]
     },
     "metadata": {},
     "output_type": "display_data"
    }
   ],
   "source": [
    "from plotly.offline import init_notebook_mode, iplot\n",
    "import plotly.graph_objs as go\n",
    "import chart_studio.plotly as py\n",
    "from plotly import tools\n",
    "import plotly.figure_factory as ff\n",
    "init_notebook_mode(connected=True)"
   ]
  },
  {
   "cell_type": "code",
   "execution_count": 38,
   "metadata": {},
   "outputs": [
    {
     "data": {
      "application/vnd.plotly.v1+json": {
       "config": {
        "linkText": "Export to plot.ly",
        "plotlyServerURL": "https://plot.ly",
        "showLink": false
       },
       "data": [
        {
         "labels": [
          1,
          0
         ],
         "marker": {
          "colors": [
           "orange",
           "green"
          ]
         },
         "type": "pie",
         "values": [
          183431,
          26162
         ]
        }
       ],
       "layout": {
        "height": 500,
        "margin": {
         "l": 150
        },
        "template": {
         "data": {
          "bar": [
           {
            "error_x": {
             "color": "#2a3f5f"
            },
            "error_y": {
             "color": "#2a3f5f"
            },
            "marker": {
             "line": {
              "color": "#E5ECF6",
              "width": 0.5
             }
            },
            "type": "bar"
           }
          ],
          "barpolar": [
           {
            "marker": {
             "line": {
              "color": "#E5ECF6",
              "width": 0.5
             }
            },
            "type": "barpolar"
           }
          ],
          "carpet": [
           {
            "aaxis": {
             "endlinecolor": "#2a3f5f",
             "gridcolor": "white",
             "linecolor": "white",
             "minorgridcolor": "white",
             "startlinecolor": "#2a3f5f"
            },
            "baxis": {
             "endlinecolor": "#2a3f5f",
             "gridcolor": "white",
             "linecolor": "white",
             "minorgridcolor": "white",
             "startlinecolor": "#2a3f5f"
            },
            "type": "carpet"
           }
          ],
          "choropleth": [
           {
            "colorbar": {
             "outlinewidth": 0,
             "ticks": ""
            },
            "type": "choropleth"
           }
          ],
          "contour": [
           {
            "colorbar": {
             "outlinewidth": 0,
             "ticks": ""
            },
            "colorscale": [
             [
              0,
              "#0d0887"
             ],
             [
              0.1111111111111111,
              "#46039f"
             ],
             [
              0.2222222222222222,
              "#7201a8"
             ],
             [
              0.3333333333333333,
              "#9c179e"
             ],
             [
              0.4444444444444444,
              "#bd3786"
             ],
             [
              0.5555555555555556,
              "#d8576b"
             ],
             [
              0.6666666666666666,
              "#ed7953"
             ],
             [
              0.7777777777777778,
              "#fb9f3a"
             ],
             [
              0.8888888888888888,
              "#fdca26"
             ],
             [
              1,
              "#f0f921"
             ]
            ],
            "type": "contour"
           }
          ],
          "contourcarpet": [
           {
            "colorbar": {
             "outlinewidth": 0,
             "ticks": ""
            },
            "type": "contourcarpet"
           }
          ],
          "heatmap": [
           {
            "colorbar": {
             "outlinewidth": 0,
             "ticks": ""
            },
            "colorscale": [
             [
              0,
              "#0d0887"
             ],
             [
              0.1111111111111111,
              "#46039f"
             ],
             [
              0.2222222222222222,
              "#7201a8"
             ],
             [
              0.3333333333333333,
              "#9c179e"
             ],
             [
              0.4444444444444444,
              "#bd3786"
             ],
             [
              0.5555555555555556,
              "#d8576b"
             ],
             [
              0.6666666666666666,
              "#ed7953"
             ],
             [
              0.7777777777777778,
              "#fb9f3a"
             ],
             [
              0.8888888888888888,
              "#fdca26"
             ],
             [
              1,
              "#f0f921"
             ]
            ],
            "type": "heatmap"
           }
          ],
          "heatmapgl": [
           {
            "colorbar": {
             "outlinewidth": 0,
             "ticks": ""
            },
            "colorscale": [
             [
              0,
              "#0d0887"
             ],
             [
              0.1111111111111111,
              "#46039f"
             ],
             [
              0.2222222222222222,
              "#7201a8"
             ],
             [
              0.3333333333333333,
              "#9c179e"
             ],
             [
              0.4444444444444444,
              "#bd3786"
             ],
             [
              0.5555555555555556,
              "#d8576b"
             ],
             [
              0.6666666666666666,
              "#ed7953"
             ],
             [
              0.7777777777777778,
              "#fb9f3a"
             ],
             [
              0.8888888888888888,
              "#fdca26"
             ],
             [
              1,
              "#f0f921"
             ]
            ],
            "type": "heatmapgl"
           }
          ],
          "histogram": [
           {
            "marker": {
             "colorbar": {
              "outlinewidth": 0,
              "ticks": ""
             }
            },
            "type": "histogram"
           }
          ],
          "histogram2d": [
           {
            "colorbar": {
             "outlinewidth": 0,
             "ticks": ""
            },
            "colorscale": [
             [
              0,
              "#0d0887"
             ],
             [
              0.1111111111111111,
              "#46039f"
             ],
             [
              0.2222222222222222,
              "#7201a8"
             ],
             [
              0.3333333333333333,
              "#9c179e"
             ],
             [
              0.4444444444444444,
              "#bd3786"
             ],
             [
              0.5555555555555556,
              "#d8576b"
             ],
             [
              0.6666666666666666,
              "#ed7953"
             ],
             [
              0.7777777777777778,
              "#fb9f3a"
             ],
             [
              0.8888888888888888,
              "#fdca26"
             ],
             [
              1,
              "#f0f921"
             ]
            ],
            "type": "histogram2d"
           }
          ],
          "histogram2dcontour": [
           {
            "colorbar": {
             "outlinewidth": 0,
             "ticks": ""
            },
            "colorscale": [
             [
              0,
              "#0d0887"
             ],
             [
              0.1111111111111111,
              "#46039f"
             ],
             [
              0.2222222222222222,
              "#7201a8"
             ],
             [
              0.3333333333333333,
              "#9c179e"
             ],
             [
              0.4444444444444444,
              "#bd3786"
             ],
             [
              0.5555555555555556,
              "#d8576b"
             ],
             [
              0.6666666666666666,
              "#ed7953"
             ],
             [
              0.7777777777777778,
              "#fb9f3a"
             ],
             [
              0.8888888888888888,
              "#fdca26"
             ],
             [
              1,
              "#f0f921"
             ]
            ],
            "type": "histogram2dcontour"
           }
          ],
          "mesh3d": [
           {
            "colorbar": {
             "outlinewidth": 0,
             "ticks": ""
            },
            "type": "mesh3d"
           }
          ],
          "parcoords": [
           {
            "line": {
             "colorbar": {
              "outlinewidth": 0,
              "ticks": ""
             }
            },
            "type": "parcoords"
           }
          ],
          "pie": [
           {
            "automargin": true,
            "type": "pie"
           }
          ],
          "scatter": [
           {
            "marker": {
             "colorbar": {
              "outlinewidth": 0,
              "ticks": ""
             }
            },
            "type": "scatter"
           }
          ],
          "scatter3d": [
           {
            "line": {
             "colorbar": {
              "outlinewidth": 0,
              "ticks": ""
             }
            },
            "marker": {
             "colorbar": {
              "outlinewidth": 0,
              "ticks": ""
             }
            },
            "type": "scatter3d"
           }
          ],
          "scattercarpet": [
           {
            "marker": {
             "colorbar": {
              "outlinewidth": 0,
              "ticks": ""
             }
            },
            "type": "scattercarpet"
           }
          ],
          "scattergeo": [
           {
            "marker": {
             "colorbar": {
              "outlinewidth": 0,
              "ticks": ""
             }
            },
            "type": "scattergeo"
           }
          ],
          "scattergl": [
           {
            "marker": {
             "colorbar": {
              "outlinewidth": 0,
              "ticks": ""
             }
            },
            "type": "scattergl"
           }
          ],
          "scattermapbox": [
           {
            "marker": {
             "colorbar": {
              "outlinewidth": 0,
              "ticks": ""
             }
            },
            "type": "scattermapbox"
           }
          ],
          "scatterpolar": [
           {
            "marker": {
             "colorbar": {
              "outlinewidth": 0,
              "ticks": ""
             }
            },
            "type": "scatterpolar"
           }
          ],
          "scatterpolargl": [
           {
            "marker": {
             "colorbar": {
              "outlinewidth": 0,
              "ticks": ""
             }
            },
            "type": "scatterpolargl"
           }
          ],
          "scatterternary": [
           {
            "marker": {
             "colorbar": {
              "outlinewidth": 0,
              "ticks": ""
             }
            },
            "type": "scatterternary"
           }
          ],
          "surface": [
           {
            "colorbar": {
             "outlinewidth": 0,
             "ticks": ""
            },
            "colorscale": [
             [
              0,
              "#0d0887"
             ],
             [
              0.1111111111111111,
              "#46039f"
             ],
             [
              0.2222222222222222,
              "#7201a8"
             ],
             [
              0.3333333333333333,
              "#9c179e"
             ],
             [
              0.4444444444444444,
              "#bd3786"
             ],
             [
              0.5555555555555556,
              "#d8576b"
             ],
             [
              0.6666666666666666,
              "#ed7953"
             ],
             [
              0.7777777777777778,
              "#fb9f3a"
             ],
             [
              0.8888888888888888,
              "#fdca26"
             ],
             [
              1,
              "#f0f921"
             ]
            ],
            "type": "surface"
           }
          ],
          "table": [
           {
            "cells": {
             "fill": {
              "color": "#EBF0F8"
             },
             "line": {
              "color": "white"
             }
            },
            "header": {
             "fill": {
              "color": "#C8D4E3"
             },
             "line": {
              "color": "white"
             }
            },
            "type": "table"
           }
          ]
         },
         "layout": {
          "annotationdefaults": {
           "arrowcolor": "#2a3f5f",
           "arrowhead": 0,
           "arrowwidth": 1
          },
          "coloraxis": {
           "colorbar": {
            "outlinewidth": 0,
            "ticks": ""
           }
          },
          "colorscale": {
           "diverging": [
            [
             0,
             "#8e0152"
            ],
            [
             0.1,
             "#c51b7d"
            ],
            [
             0.2,
             "#de77ae"
            ],
            [
             0.3,
             "#f1b6da"
            ],
            [
             0.4,
             "#fde0ef"
            ],
            [
             0.5,
             "#f7f7f7"
            ],
            [
             0.6,
             "#e6f5d0"
            ],
            [
             0.7,
             "#b8e186"
            ],
            [
             0.8,
             "#7fbc41"
            ],
            [
             0.9,
             "#4d9221"
            ],
            [
             1,
             "#276419"
            ]
           ],
           "sequential": [
            [
             0,
             "#0d0887"
            ],
            [
             0.1111111111111111,
             "#46039f"
            ],
            [
             0.2222222222222222,
             "#7201a8"
            ],
            [
             0.3333333333333333,
             "#9c179e"
            ],
            [
             0.4444444444444444,
             "#bd3786"
            ],
            [
             0.5555555555555556,
             "#d8576b"
            ],
            [
             0.6666666666666666,
             "#ed7953"
            ],
            [
             0.7777777777777778,
             "#fb9f3a"
            ],
            [
             0.8888888888888888,
             "#fdca26"
            ],
            [
             1,
             "#f0f921"
            ]
           ],
           "sequentialminus": [
            [
             0,
             "#0d0887"
            ],
            [
             0.1111111111111111,
             "#46039f"
            ],
            [
             0.2222222222222222,
             "#7201a8"
            ],
            [
             0.3333333333333333,
             "#9c179e"
            ],
            [
             0.4444444444444444,
             "#bd3786"
            ],
            [
             0.5555555555555556,
             "#d8576b"
            ],
            [
             0.6666666666666666,
             "#ed7953"
            ],
            [
             0.7777777777777778,
             "#fb9f3a"
            ],
            [
             0.8888888888888888,
             "#fdca26"
            ],
            [
             1,
             "#f0f921"
            ]
           ]
          },
          "colorway": [
           "#636efa",
           "#EF553B",
           "#00cc96",
           "#ab63fa",
           "#FFA15A",
           "#19d3f3",
           "#FF6692",
           "#B6E880",
           "#FF97FF",
           "#FECB52"
          ],
          "font": {
           "color": "#2a3f5f"
          },
          "geo": {
           "bgcolor": "white",
           "lakecolor": "white",
           "landcolor": "#E5ECF6",
           "showlakes": true,
           "showland": true,
           "subunitcolor": "white"
          },
          "hoverlabel": {
           "align": "left"
          },
          "hovermode": "closest",
          "mapbox": {
           "style": "light"
          },
          "paper_bgcolor": "white",
          "plot_bgcolor": "#E5ECF6",
          "polar": {
           "angularaxis": {
            "gridcolor": "white",
            "linecolor": "white",
            "ticks": ""
           },
           "bgcolor": "#E5ECF6",
           "radialaxis": {
            "gridcolor": "white",
            "linecolor": "white",
            "ticks": ""
           }
          },
          "scene": {
           "xaxis": {
            "backgroundcolor": "#E5ECF6",
            "gridcolor": "white",
            "gridwidth": 2,
            "linecolor": "white",
            "showbackground": true,
            "ticks": "",
            "zerolinecolor": "white"
           },
           "yaxis": {
            "backgroundcolor": "#E5ECF6",
            "gridcolor": "white",
            "gridwidth": 2,
            "linecolor": "white",
            "showbackground": true,
            "ticks": "",
            "zerolinecolor": "white"
           },
           "zaxis": {
            "backgroundcolor": "#E5ECF6",
            "gridcolor": "white",
            "gridwidth": 2,
            "linecolor": "white",
            "showbackground": true,
            "ticks": "",
            "zerolinecolor": "white"
           }
          },
          "shapedefaults": {
           "line": {
            "color": "#2a3f5f"
           }
          },
          "ternary": {
           "aaxis": {
            "gridcolor": "white",
            "linecolor": "white",
            "ticks": ""
           },
           "baxis": {
            "gridcolor": "white",
            "linecolor": "white",
            "ticks": ""
           },
           "bgcolor": "#E5ECF6",
           "caxis": {
            "gridcolor": "white",
            "linecolor": "white",
            "ticks": ""
           }
          },
          "title": {
           "x": 0.05
          },
          "xaxis": {
           "automargin": true,
           "gridcolor": "white",
           "linecolor": "white",
           "ticks": "",
           "title": {
            "standoff": 15
           },
           "zerolinecolor": "white",
           "zerolinewidth": 2
          },
          "yaxis": {
           "automargin": true,
           "gridcolor": "white",
           "linecolor": "white",
           "ticks": "",
           "title": {
            "standoff": 15
           },
           "zerolinecolor": "white",
           "zerolinewidth": 2
          }
         }
        },
        "title": {
         "text": "Delinquency Ratio"
        },
        "width": 500
       }
      },
      "text/html": [
       "<div>\n",
       "        \n",
       "        \n",
       "            <div id=\"c270c126-3b24-4159-8d87-b89b0120ed30\" class=\"plotly-graph-div\" style=\"height:500px; width:500px;\"></div>\n",
       "            <script type=\"text/javascript\">\n",
       "                require([\"plotly\"], function(Plotly) {\n",
       "                    window.PLOTLYENV=window.PLOTLYENV || {};\n",
       "                    \n",
       "                if (document.getElementById(\"c270c126-3b24-4159-8d87-b89b0120ed30\")) {\n",
       "                    Plotly.newPlot(\n",
       "                        'c270c126-3b24-4159-8d87-b89b0120ed30',\n",
       "                        [{\"labels\": [1, 0], \"marker\": {\"colors\": [\"orange\", \"green\"]}, \"type\": \"pie\", \"values\": [183431, 26162]}],\n",
       "                        {\"height\": 500, \"margin\": {\"l\": 150}, \"template\": {\"data\": {\"bar\": [{\"error_x\": {\"color\": \"#2a3f5f\"}, \"error_y\": {\"color\": \"#2a3f5f\"}, \"marker\": {\"line\": {\"color\": \"#E5ECF6\", \"width\": 0.5}}, \"type\": \"bar\"}], \"barpolar\": [{\"marker\": {\"line\": {\"color\": \"#E5ECF6\", \"width\": 0.5}}, \"type\": \"barpolar\"}], \"carpet\": [{\"aaxis\": {\"endlinecolor\": \"#2a3f5f\", \"gridcolor\": \"white\", \"linecolor\": \"white\", \"minorgridcolor\": \"white\", \"startlinecolor\": \"#2a3f5f\"}, \"baxis\": {\"endlinecolor\": \"#2a3f5f\", \"gridcolor\": \"white\", \"linecolor\": \"white\", \"minorgridcolor\": \"white\", \"startlinecolor\": \"#2a3f5f\"}, \"type\": \"carpet\"}], \"choropleth\": [{\"colorbar\": {\"outlinewidth\": 0, \"ticks\": \"\"}, \"type\": \"choropleth\"}], \"contour\": [{\"colorbar\": {\"outlinewidth\": 0, \"ticks\": \"\"}, \"colorscale\": [[0.0, \"#0d0887\"], [0.1111111111111111, \"#46039f\"], [0.2222222222222222, \"#7201a8\"], [0.3333333333333333, \"#9c179e\"], [0.4444444444444444, \"#bd3786\"], [0.5555555555555556, \"#d8576b\"], [0.6666666666666666, \"#ed7953\"], [0.7777777777777778, \"#fb9f3a\"], [0.8888888888888888, \"#fdca26\"], [1.0, \"#f0f921\"]], \"type\": \"contour\"}], \"contourcarpet\": [{\"colorbar\": {\"outlinewidth\": 0, \"ticks\": \"\"}, \"type\": \"contourcarpet\"}], \"heatmap\": [{\"colorbar\": {\"outlinewidth\": 0, \"ticks\": \"\"}, \"colorscale\": [[0.0, \"#0d0887\"], [0.1111111111111111, \"#46039f\"], [0.2222222222222222, \"#7201a8\"], [0.3333333333333333, \"#9c179e\"], [0.4444444444444444, \"#bd3786\"], [0.5555555555555556, \"#d8576b\"], [0.6666666666666666, \"#ed7953\"], [0.7777777777777778, \"#fb9f3a\"], [0.8888888888888888, \"#fdca26\"], [1.0, \"#f0f921\"]], \"type\": \"heatmap\"}], \"heatmapgl\": [{\"colorbar\": {\"outlinewidth\": 0, \"ticks\": \"\"}, \"colorscale\": [[0.0, \"#0d0887\"], [0.1111111111111111, \"#46039f\"], [0.2222222222222222, \"#7201a8\"], [0.3333333333333333, \"#9c179e\"], [0.4444444444444444, \"#bd3786\"], [0.5555555555555556, \"#d8576b\"], [0.6666666666666666, \"#ed7953\"], [0.7777777777777778, \"#fb9f3a\"], [0.8888888888888888, \"#fdca26\"], [1.0, \"#f0f921\"]], \"type\": \"heatmapgl\"}], \"histogram\": [{\"marker\": {\"colorbar\": {\"outlinewidth\": 0, \"ticks\": \"\"}}, \"type\": \"histogram\"}], \"histogram2d\": [{\"colorbar\": {\"outlinewidth\": 0, \"ticks\": \"\"}, \"colorscale\": [[0.0, \"#0d0887\"], [0.1111111111111111, \"#46039f\"], [0.2222222222222222, \"#7201a8\"], [0.3333333333333333, \"#9c179e\"], [0.4444444444444444, \"#bd3786\"], [0.5555555555555556, \"#d8576b\"], [0.6666666666666666, \"#ed7953\"], [0.7777777777777778, \"#fb9f3a\"], [0.8888888888888888, \"#fdca26\"], [1.0, \"#f0f921\"]], \"type\": \"histogram2d\"}], \"histogram2dcontour\": [{\"colorbar\": {\"outlinewidth\": 0, \"ticks\": \"\"}, \"colorscale\": [[0.0, \"#0d0887\"], [0.1111111111111111, \"#46039f\"], [0.2222222222222222, \"#7201a8\"], [0.3333333333333333, \"#9c179e\"], [0.4444444444444444, \"#bd3786\"], [0.5555555555555556, \"#d8576b\"], [0.6666666666666666, \"#ed7953\"], [0.7777777777777778, \"#fb9f3a\"], [0.8888888888888888, \"#fdca26\"], [1.0, \"#f0f921\"]], \"type\": \"histogram2dcontour\"}], \"mesh3d\": [{\"colorbar\": {\"outlinewidth\": 0, \"ticks\": \"\"}, \"type\": \"mesh3d\"}], \"parcoords\": [{\"line\": {\"colorbar\": {\"outlinewidth\": 0, \"ticks\": \"\"}}, \"type\": \"parcoords\"}], \"pie\": [{\"automargin\": true, \"type\": \"pie\"}], \"scatter\": [{\"marker\": {\"colorbar\": {\"outlinewidth\": 0, \"ticks\": \"\"}}, \"type\": \"scatter\"}], \"scatter3d\": [{\"line\": {\"colorbar\": {\"outlinewidth\": 0, \"ticks\": \"\"}}, \"marker\": {\"colorbar\": {\"outlinewidth\": 0, \"ticks\": \"\"}}, \"type\": \"scatter3d\"}], \"scattercarpet\": [{\"marker\": {\"colorbar\": {\"outlinewidth\": 0, \"ticks\": \"\"}}, \"type\": \"scattercarpet\"}], \"scattergeo\": [{\"marker\": {\"colorbar\": {\"outlinewidth\": 0, \"ticks\": \"\"}}, \"type\": \"scattergeo\"}], \"scattergl\": [{\"marker\": {\"colorbar\": {\"outlinewidth\": 0, \"ticks\": \"\"}}, \"type\": \"scattergl\"}], \"scattermapbox\": [{\"marker\": {\"colorbar\": {\"outlinewidth\": 0, \"ticks\": \"\"}}, \"type\": \"scattermapbox\"}], \"scatterpolar\": [{\"marker\": {\"colorbar\": {\"outlinewidth\": 0, \"ticks\": \"\"}}, \"type\": \"scatterpolar\"}], \"scatterpolargl\": [{\"marker\": {\"colorbar\": {\"outlinewidth\": 0, \"ticks\": \"\"}}, \"type\": \"scatterpolargl\"}], \"scatterternary\": [{\"marker\": {\"colorbar\": {\"outlinewidth\": 0, \"ticks\": \"\"}}, \"type\": \"scatterternary\"}], \"surface\": [{\"colorbar\": {\"outlinewidth\": 0, \"ticks\": \"\"}, \"colorscale\": [[0.0, \"#0d0887\"], [0.1111111111111111, \"#46039f\"], [0.2222222222222222, \"#7201a8\"], [0.3333333333333333, \"#9c179e\"], [0.4444444444444444, \"#bd3786\"], [0.5555555555555556, \"#d8576b\"], [0.6666666666666666, \"#ed7953\"], [0.7777777777777778, \"#fb9f3a\"], [0.8888888888888888, \"#fdca26\"], [1.0, \"#f0f921\"]], \"type\": \"surface\"}], \"table\": [{\"cells\": {\"fill\": {\"color\": \"#EBF0F8\"}, \"line\": {\"color\": \"white\"}}, \"header\": {\"fill\": {\"color\": \"#C8D4E3\"}, \"line\": {\"color\": \"white\"}}, \"type\": \"table\"}]}, \"layout\": {\"annotationdefaults\": {\"arrowcolor\": \"#2a3f5f\", \"arrowhead\": 0, \"arrowwidth\": 1}, \"coloraxis\": {\"colorbar\": {\"outlinewidth\": 0, \"ticks\": \"\"}}, \"colorscale\": {\"diverging\": [[0, \"#8e0152\"], [0.1, \"#c51b7d\"], [0.2, \"#de77ae\"], [0.3, \"#f1b6da\"], [0.4, \"#fde0ef\"], [0.5, \"#f7f7f7\"], [0.6, \"#e6f5d0\"], [0.7, \"#b8e186\"], [0.8, \"#7fbc41\"], [0.9, \"#4d9221\"], [1, \"#276419\"]], \"sequential\": [[0.0, \"#0d0887\"], [0.1111111111111111, \"#46039f\"], [0.2222222222222222, \"#7201a8\"], [0.3333333333333333, \"#9c179e\"], [0.4444444444444444, \"#bd3786\"], [0.5555555555555556, \"#d8576b\"], [0.6666666666666666, \"#ed7953\"], [0.7777777777777778, \"#fb9f3a\"], [0.8888888888888888, \"#fdca26\"], [1.0, \"#f0f921\"]], \"sequentialminus\": [[0.0, \"#0d0887\"], [0.1111111111111111, \"#46039f\"], [0.2222222222222222, \"#7201a8\"], [0.3333333333333333, \"#9c179e\"], [0.4444444444444444, \"#bd3786\"], [0.5555555555555556, \"#d8576b\"], [0.6666666666666666, \"#ed7953\"], [0.7777777777777778, \"#fb9f3a\"], [0.8888888888888888, \"#fdca26\"], [1.0, \"#f0f921\"]]}, \"colorway\": [\"#636efa\", \"#EF553B\", \"#00cc96\", \"#ab63fa\", \"#FFA15A\", \"#19d3f3\", \"#FF6692\", \"#B6E880\", \"#FF97FF\", \"#FECB52\"], \"font\": {\"color\": \"#2a3f5f\"}, \"geo\": {\"bgcolor\": \"white\", \"lakecolor\": \"white\", \"landcolor\": \"#E5ECF6\", \"showlakes\": true, \"showland\": true, \"subunitcolor\": \"white\"}, \"hoverlabel\": {\"align\": \"left\"}, \"hovermode\": \"closest\", \"mapbox\": {\"style\": \"light\"}, \"paper_bgcolor\": \"white\", \"plot_bgcolor\": \"#E5ECF6\", \"polar\": {\"angularaxis\": {\"gridcolor\": \"white\", \"linecolor\": \"white\", \"ticks\": \"\"}, \"bgcolor\": \"#E5ECF6\", \"radialaxis\": {\"gridcolor\": \"white\", \"linecolor\": \"white\", \"ticks\": \"\"}}, \"scene\": {\"xaxis\": {\"backgroundcolor\": \"#E5ECF6\", \"gridcolor\": \"white\", \"gridwidth\": 2, \"linecolor\": \"white\", \"showbackground\": true, \"ticks\": \"\", \"zerolinecolor\": \"white\"}, \"yaxis\": {\"backgroundcolor\": \"#E5ECF6\", \"gridcolor\": \"white\", \"gridwidth\": 2, \"linecolor\": \"white\", \"showbackground\": true, \"ticks\": \"\", \"zerolinecolor\": \"white\"}, \"zaxis\": {\"backgroundcolor\": \"#E5ECF6\", \"gridcolor\": \"white\", \"gridwidth\": 2, \"linecolor\": \"white\", \"showbackground\": true, \"ticks\": \"\", \"zerolinecolor\": \"white\"}}, \"shapedefaults\": {\"line\": {\"color\": \"#2a3f5f\"}}, \"ternary\": {\"aaxis\": {\"gridcolor\": \"white\", \"linecolor\": \"white\", \"ticks\": \"\"}, \"baxis\": {\"gridcolor\": \"white\", \"linecolor\": \"white\", \"ticks\": \"\"}, \"bgcolor\": \"#E5ECF6\", \"caxis\": {\"gridcolor\": \"white\", \"linecolor\": \"white\", \"ticks\": \"\"}}, \"title\": {\"x\": 0.05}, \"xaxis\": {\"automargin\": true, \"gridcolor\": \"white\", \"linecolor\": \"white\", \"ticks\": \"\", \"title\": {\"standoff\": 15}, \"zerolinecolor\": \"white\", \"zerolinewidth\": 2}, \"yaxis\": {\"automargin\": true, \"gridcolor\": \"white\", \"linecolor\": \"white\", \"ticks\": \"\", \"title\": {\"standoff\": 15}, \"zerolinecolor\": \"white\", \"zerolinewidth\": 2}}}, \"title\": {\"text\": \"Delinquency Ratio\"}, \"width\": 500},\n",
       "                        {\"responsive\": true}\n",
       "                    ).then(function(){\n",
       "                            \n",
       "var gd = document.getElementById('c270c126-3b24-4159-8d87-b89b0120ed30');\n",
       "var x = new MutationObserver(function (mutations, observer) {{\n",
       "        var display = window.getComputedStyle(gd).display;\n",
       "        if (!display || display === 'none') {{\n",
       "            console.log([gd, 'removed!']);\n",
       "            Plotly.purge(gd);\n",
       "            observer.disconnect();\n",
       "        }}\n",
       "}});\n",
       "\n",
       "// Listen for the removal of the full notebook cells\n",
       "var notebookContainer = gd.closest('#notebook-container');\n",
       "if (notebookContainer) {{\n",
       "    x.observe(notebookContainer, {childList: true});\n",
       "}}\n",
       "\n",
       "// Listen for the clearing of the current output cell\n",
       "var outputEl = gd.closest('.output');\n",
       "if (outputEl) {{\n",
       "    x.observe(outputEl, {childList: true});\n",
       "}}\n",
       "\n",
       "                        })\n",
       "                };\n",
       "                });\n",
       "            </script>\n",
       "        </div>"
      ]
     },
     "metadata": {},
     "output_type": "display_data"
    },
    {
     "name": "stdout",
     "output_type": "stream",
     "text": [
      "1    183431\n",
      "0     26162\n",
      "Name: label, dtype: int64\n"
     ]
    }
   ],
   "source": [
    "#count and Ratio of customer who had paid back the credit amount vs those customer who had not paid in dataset\n",
    "target= y.value_counts()\n",
    "levels = ['0','1']\n",
    "trace = go.Pie(labels=target.index,values=target.values,\n",
    "               marker=dict(colors=('orange','green')))\n",
    "layout = dict(title=\"Delinquency Ratio\", margin=dict(l=150), width=500, height=500)\n",
    "figdata = [trace]\n",
    "fig = go.Figure(data=figdata, layout=layout)\n",
    "iplot(fig)\n",
    "#print target class counts\n",
    "print(target)"
   ]
  },
  {
   "cell_type": "code",
   "execution_count": 39,
   "metadata": {},
   "outputs": [
    {
     "data": {
      "text/plain": [
       "Text(0.5, 0, 'Delinquency')"
      ]
     },
     "execution_count": 39,
     "metadata": {},
     "output_type": "execute_result"
    },
    {
     "data": {
      "image/png": "[encoded data removed]",
      "text/plain": [
       "<Figure size 720x432 with 1 Axes>"
      ]
     },
     "metadata": {
      "needs_background": "light"
     },
     "output_type": "display_data"
    }
   ],
   "source": [
    "#Daily amount spent from main account, averaged over last 90 days (in Indonesian Rupiah)\n",
    "plt.figure(figsize=(10,6))\n",
    "ax = sns.boxplot(y, X['daily_decr90'])\n",
    "ax.set_title('Effect of Daily amount spent over last 90 days on Delinquency', fontsize=18)\n",
    "ax.set_ylabel('Daily amount spent over last 90 days(in Indonesian Rupiah)', fontsize = 15)\n",
    "ax.set_xlabel('Delinquency', fontsize = 15)"
   ]
  },
  {
   "cell_type": "code",
   "execution_count": 40,
   "metadata": {},
   "outputs": [
    {
     "data": {
      "text/plain": [
       "Text(0.5, 0, 'Delinquency')"
      ]
     },
     "execution_count": 40,
     "metadata": {},
     "output_type": "execute_result"
    },
    {
     "data": {
      "image/png": "[encoded data removed]",
      "text/plain": [
       "<Figure size 720x432 with 1 Axes>"
      ]
     },
     "metadata": {
      "needs_background": "light"
     },
     "output_type": "display_data"
    }
   ],
   "source": [
    "#Daily amount spent from main account, averaged over last 30 days (in Indonesian Rupiah)\n",
    "plt.figure(figsize=(10,6))\n",
    "ax = sns.boxplot(y, X['daily_decr30'])\n",
    "ax.set_title('Effect of Daily amount spent over last 30 days on Delinquency', fontsize=18)\n",
    "ax.set_ylabel('Daily amount spent over last 30 days(in Indonesian Rupiah)', fontsize = 15)\n",
    "ax.set_xlabel('Delinquency', fontsize = 15)"
   ]
  },
  {
   "cell_type": "code",
   "execution_count": 41,
   "metadata": {},
   "outputs": [
    {
     "data": {
      "text/plain": [
       "Text(0.5, 0, 'Delinquency')"
      ]
     },
     "execution_count": 41,
     "metadata": {},
     "output_type": "execute_result"
    },
    {
     "data": {
      "image/png": "[encoded data removed]",
      "text/plain": [
       "<Figure size 720x432 with 1 Axes>"
      ]
     },
     "metadata": {
      "needs_background": "light"
     },
     "output_type": "display_data"
    }
   ],
   "source": [
    "#Average main account balance over last 90 days\n",
    "plt.figure(figsize=(10,6))\n",
    "ax = sns.boxplot(y, X['rental90'])\n",
    "ax.set_title('Effect of Average balance over last 90 days on Delinquency', fontsize=18)\n",
    "ax.set_ylabel('Avg balance over last 90 days', fontsize = 15)\n",
    "ax.set_xlabel('Delinquency', fontsize = 15)"
   ]
  },
  {
   "cell_type": "code",
   "execution_count": 42,
   "metadata": {},
   "outputs": [
    {
     "data": {
      "text/plain": [
       "Text(0.5, 0, 'Delinquency')"
      ]
     },
     "execution_count": 42,
     "metadata": {},
     "output_type": "execute_result"
    },
    {
     "data": {
      "image/png": "[encoded data removed]",
      "text/plain": [
       "<Figure size 720x432 with 1 Axes>"
      ]
     },
     "metadata": {
      "needs_background": "light"
     },
     "output_type": "display_data"
    }
   ],
   "source": [
    "#Average main account balance over last 30 days\n",
    "plt.figure(figsize=(10,6))\n",
    "ax = sns.boxplot(y, X['rental30'])\n",
    "ax.set_title('Effect of Average balance over last 30 days on Delinquency', fontsize=18)\n",
    "ax.set_ylabel('Avg balance over last 30 days', fontsize = 15)\n",
    "ax.set_xlabel('Delinquency', fontsize = 15)"
   ]
  },
  {
   "cell_type": "markdown",
   "metadata": {},
   "source": [
    "# 3) Model selection using various classifiers (Logistic Reg, Random Forest, Decision Tree, Naive Bayes, SVC)"
   ]
  },
  {
   "cell_type": "code",
   "execution_count": 43,
   "metadata": {},
   "outputs": [],
   "source": [
    "#import ML models and metrics\n",
    "from sklearn.metrics import f1_score,roc_curve, classification_report, confusion_matrix\n",
    "from sklearn.linear_model import LogisticRegression\n",
    "from sklearn import metrics\n",
    "from sklearn.ensemble import RandomForestClassifier\n",
    "from sklearn.model_selection import RandomizedSearchCV\n",
    "from sklearn.model_selection import cross_val_score\n",
    "from sklearn.preprocessing import StandardScaler\n",
    "from scipy.stats import uniform\n"
   ]
  },
  {
   "cell_type": "code",
   "execution_count": 44,
   "metadata": {},
   "outputs": [
    {
     "name": "stdout",
     "output_type": "stream",
     "text": [
      "(146715, 25)\n",
      "(62878, 25)\n",
      "(146715,)\n",
      "(62878,)\n"
     ]
    }
   ],
   "source": [
    "#create seperate train and test splits for validation\n",
    "from sklearn.model_selection import train_test_split\n",
    "X_train, X_test, y_train, y_test = train_test_split(X, y, test_size=0.3, random_state=101)\n",
    "print(X_train.shape)\n",
    "print(X_test.shape)\n",
    "print(y_train.shape)\n",
    "print(y_test.shape)"
   ]
  },
  {
   "cell_type": "code",
   "execution_count": 45,
   "metadata": {},
   "outputs": [],
   "source": [
    "#create function for validation and return accuracy and roc-auc score\n",
    "def evaluate_model(model):\n",
    "    model.fit(X_train,y_train)\n",
    "    prediction_test = model.predict(X_test)\n",
    "    accuracy = metrics.accuracy_score(y_test, prediction_test)\n",
    "    rocauc = metrics.roc_auc_score(y_test, prediction_test)\n",
    "    return accuracy,rocauc,prediction_test"
   ]
  },
  {
   "cell_type": "code",
   "execution_count": 46,
   "metadata": {},
   "outputs": [
    {
     "name": "stdout",
     "output_type": "stream",
     "text": [
      "Logistic Regression...\n",
      "              precision    recall  f1-score   support\n",
      "\n",
      "           0       0.06      0.50      0.11      1019\n",
      "           1       0.99      0.88      0.93     61859\n",
      "\n",
      "    accuracy                           0.87     62878\n",
      "   macro avg       0.53      0.69      0.52     62878\n",
      "weighted avg       0.98      0.87      0.92     62878\n",
      "\n"
     ]
    }
   ],
   "source": [
    "#LOGISTIC REGRESSION\n",
    "from sklearn.linear_model import LogisticRegression\n",
    "lr = LogisticRegression()\n",
    "acc,rocauc,testpred_lr  = evaluate_model(lr)\n",
    "print('Logistic Regression...')\n",
    "Y_LRpred=lr.predict(X_test)\n",
    "print(classification_report(Y_LRpred,y_test))"
   ]
  },
  {
   "cell_type": "code",
   "execution_count": 47,
   "metadata": {},
   "outputs": [
    {
     "data": {
      "text/plain": [
       "(2, -0.1)"
      ]
     },
     "execution_count": 47,
     "metadata": {},
     "output_type": "execute_result"
    },
    {
     "data": {
      "image/png": "[encoded data removed]",
      "text/plain": [
       "<Figure size 288x288 with 2 Axes>"
      ]
     },
     "metadata": {
      "needs_background": "light"
     },
     "output_type": "display_data"
    }
   ],
   "source": [
    "cm_LR = confusion_matrix(y_test, Y_LRpred)\n",
    "_,ax = plt.subplots(figsize=(4,4))\n",
    "sns.heatmap(cm_LR,annot=True,fmt=\"d\")\n",
    "ax.set_ylim(2,-0.1)"
   ]
  },
  {
   "cell_type": "code",
   "execution_count": 48,
   "metadata": {
    "scrolled": true
   },
   "outputs": [
    {
     "name": "stdout",
     "output_type": "stream",
     "text": [
      "Random Forest...\n",
      "              precision    recall  f1-score   support\n",
      "\n",
      "           0       0.46      0.66      0.55      5562\n",
      "           1       0.97      0.93      0.95     57316\n",
      "\n",
      "    accuracy                           0.90     62878\n",
      "   macro avg       0.71      0.79      0.75     62878\n",
      "weighted avg       0.92      0.90      0.91     62878\n",
      "\n"
     ]
    }
   ],
   "source": [
    "#RANDOM FOREST CLASSIFIER\n",
    "rf =RandomForestClassifier()\n",
    "rf.fit(X_train,y_train)\n",
    "acc,rocauc,testpred_rf  = evaluate_model(rf)\n",
    "print('Random Forest...')\n",
    "Y_RFpred=rf.predict(X_test)\n",
    "print(classification_report(Y_RFpred,y_test))"
   ]
  },
  {
   "cell_type": "code",
   "execution_count": 49,
   "metadata": {
    "scrolled": true
   },
   "outputs": [
    {
     "data": {
      "text/plain": [
       "(2, -0.1)"
      ]
     },
     "execution_count": 49,
     "metadata": {},
     "output_type": "execute_result"
    },
    {
     "data": {
      "image/png": "[encoded data removed]",
      "text/plain": [
       "<Figure size 288x288 with 2 Axes>"
      ]
     },
     "metadata": {
      "needs_background": "light"
     },
     "output_type": "display_data"
    }
   ],
   "source": [
    "cm_RF = confusion_matrix(y_test, Y_RFpred)\n",
    "_,ax = plt.subplots(figsize=(4,4))\n",
    "sns.heatmap(cm_RF,annot=True,fmt=\"d\")\n",
    "ax.set_ylim(2,-0.1)"
   ]
  },
  {
   "cell_type": "code",
   "execution_count": 50,
   "metadata": {},
   "outputs": [
    {
     "name": "stdout",
     "output_type": "stream",
     "text": [
      "Decision Tree Classifier...\n",
      "              precision    recall  f1-score   support\n",
      "\n",
      "           0       0.48      0.46      0.47      8279\n",
      "           1       0.92      0.93      0.92     54599\n",
      "\n",
      "    accuracy                           0.86     62878\n",
      "   macro avg       0.70      0.69      0.70     62878\n",
      "weighted avg       0.86      0.86      0.86     62878\n",
      "\n"
     ]
    }
   ],
   "source": [
    "from sklearn.tree import DecisionTreeClassifier\n",
    "dt =DecisionTreeClassifier()\n",
    "dt.fit(X_train,y_train)\n",
    "acc,rocauc,testpred_dt = evaluate_model(dt)\n",
    "print('Decision Tree Classifier...')\n",
    "Y_DTpred=dt.predict(X_test)\n",
    "print(classification_report(Y_DTpred,y_test))"
   ]
  },
  {
   "cell_type": "code",
   "execution_count": 51,
   "metadata": {},
   "outputs": [
    {
     "data": {
      "text/plain": [
       "(2, -0.1)"
      ]
     },
     "execution_count": 51,
     "metadata": {},
     "output_type": "execute_result"
    },
    {
     "data": {
      "image/png": "[encoded data removed]",
      "text/plain": [
       "<Figure size 288x288 with 2 Axes>"
      ]
     },
     "metadata": {
      "needs_background": "light"
     },
     "output_type": "display_data"
    }
   ],
   "source": [
    "cm_DT = confusion_matrix(y_test, Y_DTpred)\n",
    "_,ax = plt.subplots(figsize=(4,4))\n",
    "sns.heatmap(cm_DT,annot=True,fmt=\"d\")\n",
    "ax.set_ylim(2,-0.1)"
   ]
  },
  {
   "cell_type": "code",
   "execution_count": 52,
   "metadata": {},
   "outputs": [
    {
     "name": "stdout",
     "output_type": "stream",
     "text": [
      "Gaussian Navie Bayes...\n",
      "              precision    recall  f1-score   support\n",
      "\n",
      "           0       0.48      0.46      0.47      8265\n",
      "           1       0.92      0.92      0.92     54613\n",
      "\n",
      "    accuracy                           0.86     62878\n",
      "   macro avg       0.70      0.69      0.69     62878\n",
      "weighted avg       0.86      0.86      0.86     62878\n",
      "\n"
     ]
    }
   ],
   "source": [
    "#GAUSSIAN NAIVEBAYES\n",
    "from sklearn.naive_bayes import GaussianNB\n",
    "gnb =DecisionTreeClassifier()\n",
    "gnb.fit(X_train,y_train)\n",
    "acc,rocauc,testpred_gnb = evaluate_model(gnb)\n",
    "print('Gaussian Navie Bayes...')\n",
    "Y_GNBpred=gnb.predict(X_test)\n",
    "print(classification_report(Y_GNBpred,y_test))"
   ]
  },
  {
   "cell_type": "code",
   "execution_count": 54,
   "metadata": {},
   "outputs": [
    {
     "data": {
      "text/plain": [
       "(2, -0.1)"
      ]
     },
     "execution_count": 54,
     "metadata": {},
     "output_type": "execute_result"
    },
    {
     "data": {
      "image/png": "[encoded data removed]",
      "text/plain": [
       "<Figure size 288x288 with 2 Axes>"
      ]
     },
     "metadata": {
      "needs_background": "light"
     },
     "output_type": "display_data"
    }
   ],
   "source": [
    "cm_GNB = confusion_matrix(y_test, Y_GNBpred)\n",
    "_,ax = plt.subplots(figsize=(4,4))\n",
    "sns.heatmap(cm_GNB,annot=True,fmt=\"d\")\n",
    "ax.set_ylim(2,-0.1)"
   ]
  },
  {
   "cell_type": "code",
   "execution_count": 55,
   "metadata": {},
   "outputs": [
    {
     "name": "stdout",
     "output_type": "stream",
     "text": [
      "Support vector classifier...\n",
      "              precision    recall  f1-score   support\n",
      "\n",
      "           0       0.48      0.46      0.47      8330\n",
      "           1       0.92      0.93      0.92     54548\n",
      "\n",
      "    accuracy                           0.86     62878\n",
      "   macro avg       0.70      0.69      0.70     62878\n",
      "weighted avg       0.86      0.86      0.86     62878\n",
      "\n"
     ]
    }
   ],
   "source": [
    "#SUPPORT VECTOR MACHINE\n",
    "from sklearn.svm import SVC\n",
    "svc =DecisionTreeClassifier()\n",
    "svc.fit(X_train,y_train)\n",
    "acc,rocauc,testpred_svc = evaluate_model(svc)\n",
    "print('Support vector classifier...')\n",
    "Y_SVCpred=svc.predict(X_test)\n",
    "print(classification_report(Y_SVCpred,y_test))"
   ]
  },
  {
   "cell_type": "code",
   "execution_count": 56,
   "metadata": {},
   "outputs": [
    {
     "data": {
      "text/plain": [
       "(2, -0.1)"
      ]
     },
     "execution_count": 56,
     "metadata": {},
     "output_type": "execute_result"
    },
    {
     "data": {
      "image/png": "[encoded data removed]",
      "text/plain": [
       "<Figure size 288x288 with 2 Axes>"
      ]
     },
     "metadata": {
      "needs_background": "light"
     },
     "output_type": "display_data"
    }
   ],
   "source": [
    "cm_SVC = confusion_matrix(y_test, Y_SVCpred)\n",
    "_,ax = plt.subplots(figsize=(4,4))\n",
    "sns.heatmap(cm_SVC,annot=True,fmt=\"d\")\n",
    "ax.set_ylim(2,-0.1)"
   ]
  },
  {
   "cell_type": "markdown",
   "metadata": {},
   "source": [
    "# 4) Evaluating the following models and comparing the results"
   ]
  },
  {
   "cell_type": "code",
   "execution_count": 57,
   "metadata": {},
   "outputs": [
    {
     "data": {
      "image/png": "[encoded data removed]",
      "text/plain": [
       "<Figure size 864x1152 with 5 Axes>"
      ]
     },
     "metadata": {},
     "output_type": "display_data"
    }
   ],
   "source": [
    "from sklearn.metrics import roc_auc_score\n",
    "import itertools\n",
    "\n",
    "lst    = [lr,rf,dt,gnb,svc]\n",
    "\n",
    "length = len(lst)\n",
    "mods   = ['Logistic Regression','Random Forest Classifier','Decision Tree',\"Naive Bayes\",'SVM Classifier']\n",
    "\n",
    "plt.style.use(\"dark_background\")\n",
    "fig = plt.figure(figsize=(12,16))\n",
    "fig.set_facecolor(\"#F3F3F3\")\n",
    "for i,j,k in itertools.zip_longest(lst,range(length),mods) :\n",
    "    qx = plt.subplot(4,3,j+1)\n",
    "    probabilities = i.predict_proba(X_test)\n",
    "    predictions   = i.predict(X_test)\n",
    "    fpr,tpr,thresholds = roc_curve(y_test,probabilities[:,1])\n",
    "    plt.plot(fpr,tpr,linestyle = \"dotted\",\n",
    "             color = \"royalblue\",linewidth = 2,\n",
    "             label = \"AUC = \" + str(np.around(roc_auc_score(y_test,predictions),3)))\n",
    "    plt.plot([0,1],[0,1],linestyle = \"dashed\",\n",
    "             color = \"orangered\",linewidth = 1.5)\n",
    "    plt.fill_between(fpr,tpr,alpha = .4)\n",
    "    plt.fill_between([0,1],[0,1],color = \"k\")\n",
    "    plt.legend(loc = \"lower right\",\n",
    "               prop = {\"size\" : 12})\n",
    "    qx.set_facecolor(\"k\")\n",
    "    plt.grid(True,alpha = .15)\n",
    "    plt.title(k,color = \"b\")\n",
    "    plt.xticks(np.arange(0,1,.3))\n",
    "    plt.yticks(np.arange(0,1,.3))"
   ]
  },
  {
   "cell_type": "raw",
   "metadata": {},
   "source": [
    "#Comparing Models\n",
    "====================\n",
    "Logistic Regression\n",
    "====================\n",
    "\n",
    "              precision    recall  f1-score   support\n",
    "\n",
    "           0       0.06      0.50      0.11      1019\n",
    "           1       0.99      0.88      0.93     61859\n",
    "\n",
    "    accuracy                           0.87     62878\n",
    "   macro avg       0.53      0.69      0.52     62878\n",
    "weighted avg       0.98      0.87      0.92     62878\n",
    "\n",
    "=========================\n",
    "Random forest classifier\n",
    "=========================\n",
    "\n",
    "              precision    recall  f1-score   support\n",
    "\n",
    "           0       0.46      0.66      0.54      5545\n",
    "           1       0.97      0.93      0.95     57333\n",
    "\n",
    "    accuracy                           0.90     62878\n",
    "   macro avg       0.71      0.79      0.75     62878\n",
    "weighted avg       0.92      0.90      0.91     62878\n",
    "\n",
    "==================================\n",
    "Decision tree classifierlassifier\n",
    "==================================\n",
    "\n",
    "              precision    recall  f1-score   support\n",
    "\n",
    "           0       0.48      0.46      0.47      8290\n",
    "           1       0.92      0.92      0.92     54588\n",
    "\n",
    "    accuracy                           0.86     62878\n",
    "   macro avg       0.70      0.69      0.69     62878\n",
    "weighted avg       0.86      0.86      0.86     62878\n",
    "\n",
    "=======================\n",
    "Naive Bayes classifier\n",
    "=======================\n",
    "\n",
    "              precision    recall  f1-score   support\n",
    "\n",
    "           0       0.48      0.46      0.47      8255\n",
    "           1       0.92      0.92      0.92     54623\n",
    "\n",
    "    accuracy                           0.86     62878\n",
    "   macro avg       0.70      0.69      0.70     62878\n",
    "weighted avg       0.86      0.86      0.86     62878\n",
    "\n",
    "==========================\n",
    "Support vector classifier\n",
    "==========================\n",
    "              precision    recall  f1-score   support\n",
    "\n",
    "           0       0.48      0.46      0.47      8281\n",
    "           1       0.92      0.92      0.92     54597\n",
    "              \n",
    "    accuracy                           0.86     62878\n",
    "   macro avg       0.70      0.69      0.70     62878\n",
    "weighted avg       0.86      0.86      0.86     62878\n",
    "\n",
    "===========================================================================================================================\n",
    "As the Random Forest Classifier has the highest accuracy score of 0.90 & AUC_ROC score of 0.71 as compared to other models, \n",
    "thus we will use Random Forest Classifier for final modeling along with the hyperparameter tuning.\n",
    "==========================================================================================================================="
   ]
  },
  {
   "cell_type": "markdown",
   "metadata": {},
   "source": [
    "# 5) Hyperparameter Tuning"
   ]
  },
  {
   "cell_type": "code",
   "execution_count": 58,
   "metadata": {},
   "outputs": [
    {
     "name": "stdout",
     "output_type": "stream",
     "text": [
      "RandomizedSearchCV took 811.77 seconds for 20 candidates parameter settings.\n",
      "Model with rank: 1\n",
      "Mean validation score: 0.908 (std: 0.001)\n",
      "Parameters: {'bootstrap': True, 'criterion': 'gini', 'max_depth': None, 'max_features': 7, 'min_samples_split': 9}\n",
      "\n",
      "Model with rank: 2\n",
      "Mean validation score: 0.907 (std: 0.001)\n",
      "Parameters: {'bootstrap': True, 'criterion': 'gini', 'max_depth': None, 'max_features': 9, 'min_samples_split': 7}\n",
      "\n",
      "Model with rank: 3\n",
      "Mean validation score: 0.904 (std: 0.002)\n",
      "Parameters: {'bootstrap': True, 'criterion': 'entropy', 'max_depth': None, 'max_features': 2, 'min_samples_split': 3}\n",
      "\n"
     ]
    }
   ],
   "source": [
    "from time import time\n",
    "from scipy.stats import randint as sp_randint\n",
    "\n",
    "def report(results, n_top=3):\n",
    "    for i in range(1, n_top + 1):\n",
    "        candidates = np.flatnonzero(results['rank_test_score'] == i)\n",
    "        for candidate in candidates:\n",
    "            print(\"Model with rank: {0}\".format(i))\n",
    "            print(\"Mean validation score: {0:.3f} (std: {1:.3f})\".format(\n",
    "                  results['mean_test_score'][candidate],\n",
    "                  results['std_test_score'][candidate]))\n",
    "            print(\"Parameters: {0}\".format(results['params'][candidate]))\n",
    "            print(\"\")\n",
    "\n",
    "\n",
    "# specify parameters and distributions to sample from\n",
    "param_dist = {\"max_depth\": [3, None],\n",
    "              \"max_features\": sp_randint(1, 11),\n",
    "              \"min_samples_split\": sp_randint(2, 11),\n",
    "              \"bootstrap\": [True, False],\n",
    "              \"criterion\": [\"gini\", \"entropy\"]}\n",
    "\n",
    "# run randomized search\n",
    "n_iter_search = 20\n",
    "rf_random = RandomizedSearchCV(rf, param_distributions=param_dist,\n",
    "                                   n_iter=n_iter_search, cv=5)\n",
    "\n",
    "start = time()\n",
    "rf_random.fit(X_train, y_train)\n",
    "print(\"RandomizedSearchCV took %.2f seconds for %d candidates\"\n",
    "      \" parameter settings.\" % ((time() - start), n_iter_search))\n",
    "report(rf_random.cv_results_)"
   ]
  },
  {
   "cell_type": "code",
   "execution_count": 59,
   "metadata": {},
   "outputs": [
    {
     "data": {
      "text/plain": [
       "{'bootstrap': True,\n",
       " 'criterion': 'gini',\n",
       " 'max_depth': None,\n",
       " 'max_features': 7,\n",
       " 'min_samples_split': 9}"
      ]
     },
     "execution_count": 59,
     "metadata": {},
     "output_type": "execute_result"
    }
   ],
   "source": [
    "#best params\n",
    "params = rf_random.best_params_\n",
    "params"
   ]
  },
  {
   "cell_type": "markdown",
   "metadata": {},
   "source": [
    "# 6) Final modelling and evaluating using Best Parameteres."
   ]
  },
  {
   "cell_type": "code",
   "execution_count": 60,
   "metadata": {},
   "outputs": [
    {
     "name": "stdout",
     "output_type": "stream",
     "text": [
      "RandomForestClassifier...\n",
      "              precision    recall  f1-score   support\n",
      "\n",
      "           0       0.44      0.72      0.54      4814\n",
      "           1       0.98      0.92      0.95     58064\n",
      "\n",
      "    accuracy                           0.91     62878\n",
      "   macro avg       0.71      0.82      0.75     62878\n",
      "weighted avg       0.93      0.91      0.92     62878\n",
      "\n"
     ]
    }
   ],
   "source": [
    "rfc = RandomForestClassifier(**params,random_state=42)\n",
    "rfc.fit(X_train,y_train)\n",
    "acc,rocauc,testpred_rfc  = evaluate_model(rfc)\n",
    "print('RandomForestClassifier...')\n",
    "Y_RFCpred=rfc.predict(X_test)\n",
    "print(classification_report(Y_RFCpred,y_test))"
   ]
  },
  {
   "cell_type": "code",
   "execution_count": 61,
   "metadata": {},
   "outputs": [
    {
     "data": {
      "text/plain": [
       "(2, -0.1)"
      ]
     },
     "execution_count": 61,
     "metadata": {},
     "output_type": "execute_result"
    },
    {
     "data": {
      "image/png": "[encoded data removed]",
      "text/plain": [
       "<Figure size 288x288 with 2 Axes>"
      ]
     },
     "metadata": {},
     "output_type": "display_data"
    }
   ],
   "source": [
    "cm_RFC = confusion_matrix(y_test, Y_RFCpred)\n",
    "_,ax = plt.subplots(figsize=(4,4))\n",
    "sns.heatmap(cm_RFC,annot=True,fmt=\"d\")\n",
    "ax.set_ylim(2,-0.1)"
   ]
  },
  {
   "cell_type": "markdown",
   "metadata": {},
   "source": [
    "# Conclusion"
   ]
  },
  {
   "cell_type": "raw",
   "metadata": {},
   "source": [
    "The final model has an Accuracy of 0.91 and AUC_ROC score of 0.70.\n",
    "\n",
    "we also have....\n",
    "True Negative  = 3432\n",
    "False Positive = 1355\n",
    "False Negative = 4476\n",
    "True Positive  = 53615\n",
    "\n",
    "Also, we had low Type-1 Error as FP is less"
   ]
  }
 ],
 "metadata": {
  "kernelspec": {
   "display_name": "Python 3",
   "language": "python",
   "name": "python3"
  },
  "language_info": {
   "codemirror_mode": {
    "name": "ipython",
    "version": 3
   },
   "file_extension": ".py",
   "mimetype": "text/x-python",
   "name": "python",
   "nbconvert_exporter": "python",
   "pygments_lexer": "ipython3",
   "version": "3.7.4"
  }
 },
 "nbformat": 4,
 "nbformat_minor": 2
}
